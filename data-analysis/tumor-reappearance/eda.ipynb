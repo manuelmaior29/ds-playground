{
 "cells": [
  {
   "cell_type": "code",
   "execution_count": null,
   "metadata": {},
   "outputs": [],
   "source": [
    "import pandas as pd"
   ]
  },
  {
   "cell_type": "markdown",
   "metadata": {},
   "source": [
    "Loading data."
   ]
  },
  {
   "cell_type": "code",
   "execution_count": null,
   "metadata": {},
   "outputs": [],
   "source": [
    "df = pd.read_excel(\"data/CTRadiomics+Clinical.xlsx\", header=2)\n",
    "# df = pd.read_excel(\"data/synthetic_data.xlsx\", header=2)"
   ]
  },
  {
   "cell_type": "code",
   "execution_count": null,
   "metadata": {},
   "outputs": [],
   "source": [
    "df = df.drop(columns=[\"Patients\"])"
   ]
  },
  {
   "cell_type": "code",
   "execution_count": null,
   "metadata": {},
   "outputs": [],
   "source": [
    "df"
   ]
  },
  {
   "cell_type": "markdown",
   "metadata": {},
   "source": [
    "If either _initial surgery date_ or _reoccurence surgery date_ is missing --> cannot define the _reoccurence_."
   ]
  },
  {
   "cell_type": "code",
   "execution_count": null,
   "metadata": {},
   "outputs": [],
   "source": [
    "# Drop from 'df_init' if initial surgery date or reoccurence surgery date is missing\n",
    "df = df[df[\"Initial surgery date\"].notna() & df[\"Reoccurence surgery date\"].notna()]"
   ]
  },
  {
   "cell_type": "code",
   "execution_count": null,
   "metadata": {},
   "outputs": [],
   "source": [
    "df"
   ]
  },
  {
   "cell_type": "markdown",
   "metadata": {},
   "source": [
    "Standardizing the data fields format."
   ]
  },
  {
   "cell_type": "code",
   "execution_count": null,
   "metadata": {},
   "outputs": [],
   "source": [
    "df.loc[:, \"Initial surgery date\"] = df[\"Initial surgery date\"].apply(lambda x: str(x).replace(\",\", \".\"))\n",
    "df.loc[:, \"Reoccurence surgery date\"] = df[\"Reoccurence surgery date\"].apply(lambda x: str(x).replace(\",\", \".\"))\n",
    "\n",
    "df.loc[:, \"Initial surgery date\"] = pd.to_datetime(df[\"Initial surgery date\"], dayfirst=True)\n",
    "df.loc[:, \"Reoccurence surgery date\"] = pd.to_datetime(df[\"Reoccurence surgery date\"], dayfirst=True)"
   ]
  },
  {
   "cell_type": "markdown",
   "metadata": {},
   "source": [
    "Defining reocurrence after _t_ years based on _initial surgery date_ and _reocurrence surgery date_."
   ]
  },
  {
   "cell_type": "code",
   "execution_count": null,
   "metadata": {},
   "outputs": [],
   "source": [
    "df.loc[:, \"Recurrence (after 1 year)\"] = df.apply(lambda x: \"Y\" if (x[\"Reoccurence surgery date\"] - x[\"Initial surgery date\"]).days < 365 else \"N\", axis=1)\n",
    "df.loc[:, \"Recurrence (after 3 years)\"] = df.apply(lambda x: \"Y\" if (x[\"Reoccurence surgery date\"] - x[\"Initial surgery date\"]).days < 1095 else \"N\", axis=1)\n",
    "df.loc[:, \"Recurrence (after 5 years)\"] = df.apply(lambda x: \"Y\" if (x[\"Reoccurence surgery date\"] - x[\"Initial surgery date\"]).days < 1825 else \"N\", axis=1)"
   ]
  },
  {
   "cell_type": "code",
   "execution_count": null,
   "metadata": {},
   "outputs": [],
   "source": [
    "df.drop(columns=[\"Initial surgery date\", \"Reoccurence surgery date\"], inplace=True)"
   ]
  },
  {
   "cell_type": "markdown",
   "metadata": {},
   "source": [
    "(Temporary) Manually selecting the training data."
   ]
  },
  {
   "cell_type": "code",
   "execution_count": null,
   "metadata": {},
   "outputs": [],
   "source": [
    "# df = df.iloc[:5, :].copy()"
   ]
  },
  {
   "cell_type": "code",
   "execution_count": null,
   "metadata": {},
   "outputs": [],
   "source": [
    "df.info()"
   ]
  },
  {
   "cell_type": "markdown",
   "metadata": {},
   "source": [
    "Separating the _clinical_ and _imagistic_ features and storing their corresponding names for later use."
   ]
  },
  {
   "cell_type": "code",
   "execution_count": null,
   "metadata": {},
   "outputs": [],
   "source": [
    "clinical_cols = df.columns[:25].tolist()\n",
    "imagistic_cols = df.columns[25:].tolist()\n",
    "\n",
    "print(f\"Clinical cols: \\t{clinical_cols}\")\n",
    "print(f\"Imagistic cols: {imagistic_cols}\")"
   ]
  },
  {
   "cell_type": "markdown",
   "metadata": {},
   "source": [
    "Defining the possible target features (which we want to predict)."
   ]
  },
  {
   "cell_type": "code",
   "execution_count": null,
   "metadata": {},
   "outputs": [],
   "source": [
    "cols_possible_targets = [\"Recurrence (after 1 year)\", \"Recurrence (after 3 years)\", \"Recurrence (after 5 years)\"]\n",
    "col_target = cols_possible_targets[1]"
   ]
  },
  {
   "cell_type": "code",
   "execution_count": null,
   "metadata": {},
   "outputs": [],
   "source": [
    "df = df.drop(columns=[\"Medic\", \"PreOP Imagistic\", \"PostOP\", \"Diagnostic\", \"Category\", \"Recurrence\", \"Relation To Brain\", \"LocationCategory\", \"Skull Base\", \"Parasagital\", \"Side\", \"Bilateral\", \"ICH\", \"Age At Reoccurence Operation\"])"
   ]
  },
  {
   "cell_type": "code",
   "execution_count": null,
   "metadata": {},
   "outputs": [],
   "source": [
    "df"
   ]
  },
  {
   "cell_type": "code",
   "execution_count": null,
   "metadata": {},
   "outputs": [],
   "source": [
    "import matplotlib.pyplot as plt\n",
    "%matplotlib inline"
   ]
  },
  {
   "cell_type": "markdown",
   "metadata": {},
   "source": [
    "Visualizing the distribution of the samples by a selected _recurrence_ target feature."
   ]
  },
  {
   "cell_type": "code",
   "execution_count": null,
   "metadata": {},
   "outputs": [],
   "source": [
    "fig, ax = plt.subplots(figsize=(4, 4))\n",
    "ax.set_title(f\"{col_target} distribution\")\n",
    "df[col_target].value_counts().plot.bar(ax=ax)\n",
    "\n",
    "for i, v in enumerate(df[col_target].value_counts()):\n",
    "    ax.text(i, v/2 + 0.01, v, ha=\"center\")\n",
    "\n",
    "fig.show()"
   ]
  },
  {
   "cell_type": "markdown",
   "metadata": {},
   "source": [
    "Inspection of the percentage of missing data per _feature_."
   ]
  },
  {
   "cell_type": "code",
   "execution_count": null,
   "metadata": {},
   "outputs": [],
   "source": [
    "fig, ax = plt.subplots(figsize=(100, 10))\n",
    "ax.set_title(\"Percentage of missing values\")\n",
    "df_temp = (df.isna().sum() / len(df)).sort_values(ascending=False)\n",
    "df_temp.plot.bar(ax=ax)\n",
    "ax.set_xticklabels(ax.get_xticklabels())\n",
    "# Annotate percentage (rotated)\n",
    "for i, v in enumerate(df_temp):\n",
    "    ax.text(i, v + 0.01, f\"{v:.2%}\", ha=\"center\", rotation=45)\n",
    "fig.show()"
   ]
  },
  {
   "cell_type": "markdown",
   "metadata": {},
   "source": [
    "Mapping of the numerical values that initially should have been stored as categorical."
   ]
  },
  {
   "cell_type": "code",
   "execution_count": null,
   "metadata": {},
   "outputs": [],
   "source": [
    "import numpy as np\n",
    "\n",
    "df[\"Headache\"] = df[\"Headache\"].map({0.0: \"N\", 1.0: \"Y\"})\n",
    "df[\"Visaul impairment\"] = df[\"Visaul impairment\"].map({0.0: \"N\", 1.0: \"Y\"})\n",
    "df[\"Motor deficits\"] = df[\"Motor deficits\"].map({0.0: \"N\", 1.0: \"Y\"})\n",
    "df[\"Sensibility deficits\"] = df[\"Sensibility deficits\"].map({0.0: \"N\", 1.0: \"Y\"})\n",
    "\n",
    "df[\"Grade\"] = df[\"Grade\"].astype(\"str\").replace('nan', np.nan)"
   ]
  },
  {
   "cell_type": "markdown",
   "metadata": {},
   "source": [
    "Elimination of the features that are not well represented."
   ]
  },
  {
   "cell_type": "code",
   "execution_count": null,
   "metadata": {},
   "outputs": [],
   "source": [
    "df = df.drop(columns=df_temp[df_temp > 0.99].index)"
   ]
  },
  {
   "cell_type": "markdown",
   "metadata": {},
   "source": [
    "Separation of columns by data kind:\n",
    "* Numerical\n",
    "* Categorical\n",
    "* Categorical (ordinal)"
   ]
  },
  {
   "cell_type": "code",
   "execution_count": null,
   "metadata": {},
   "outputs": [],
   "source": [
    "# Selection of columns by kind\n",
    "numerical_cols = df.select_dtypes(include=['number']).columns.tolist()\n",
    "categorical_cols = df.select_dtypes(include=['object']).drop(cols_possible_targets, axis=1).columns.tolist()\n",
    "ordinal_cols = { \n",
    "    \"Resection Grade\": [\n",
    "        \"Simpson I.\",\n",
    "        \"Simpson II.\",\n",
    "        \"Simpson III.\",\n",
    "        \"Simpson IV.\",\n",
    "    ],\n",
    "    \"Grade\": [\n",
    "        \"1.0\",\n",
    "        \"2.0\",\n",
    "        \"3.0\"\n",
    "    ]\n",
    "}\n",
    "\n",
    "# Remove any ordinal feature names from the categorical feature list\n",
    "categorical_cols = [col for col in categorical_cols if col not in ordinal_cols.keys()]"
   ]
  },
  {
   "cell_type": "markdown",
   "metadata": {},
   "source": [
    "Separation of features by data kind and by clinical or imagistic."
   ]
  },
  {
   "cell_type": "code",
   "execution_count": null,
   "metadata": {},
   "outputs": [],
   "source": [
    "clinical_numerical_cols = [col for col in numerical_cols if col in clinical_cols]\n",
    "clinical_categorical_cols = [col for col in categorical_cols if col in clinical_cols]\n",
    "imagistic_numerical_cols = [col for col in numerical_cols if col in imagistic_cols]\n",
    "imagistic_categorical_cols = [col for col in categorical_cols if col in imagistic_cols]\n",
    "\n",
    "print(\"------ Clinical features ------\")\n",
    "print(f\"Clinical numeric features: \\t{clinical_numerical_cols}\")\n",
    "print(f\"Clinical categorical features: \\t{clinical_categorical_cols}\")\n",
    "\n",
    "print(\"\\n------ Imagistic features ------\")\n",
    "print(f\"Imagistic numeric features: \\t{imagistic_numerical_cols}\")\n",
    "print(f\"Imagistic categorical features: {imagistic_categorical_cols}\")\n",
    "\n",
    "leftovers = [col for col in numerical_cols + categorical_cols if col not in clinical_cols + imagistic_cols]\n",
    "if leftovers:\n",
    "    print(f\"\\n⚠️ Unclassified features: {leftovers}\")"
   ]
  },
  {
   "cell_type": "code",
   "execution_count": null,
   "metadata": {},
   "outputs": [],
   "source": [
    "# Columns kept with reasonable number of observations\n",
    "print(f\"Numerical features: \\t{numerical_cols}\")\n",
    "print(f\"Categorical features: \\t{categorical_cols}\")\n",
    "print(f\"Ordinal features: \\t{list(ordinal_cols.keys())}\")"
   ]
  },
  {
   "cell_type": "markdown",
   "metadata": {},
   "source": [
    "Preprocessing of the text data to eliminate format inconsistencies."
   ]
  },
  {
   "cell_type": "code",
   "execution_count": null,
   "metadata": {},
   "outputs": [],
   "source": [
    "# Removal of value format inconsistencies\n",
    "df[list(ordinal_cols.keys())] = df[list(ordinal_cols.keys())].apply(lambda x: x.str.strip())"
   ]
  },
  {
   "cell_type": "code",
   "execution_count": null,
   "metadata": {},
   "outputs": [],
   "source": [
    "df.drop(columns=list(set(cols_possible_targets) - {col_target}), inplace=True)"
   ]
  },
  {
   "cell_type": "code",
   "execution_count": null,
   "metadata": {},
   "outputs": [],
   "source": [
    "df"
   ]
  },
  {
   "cell_type": "markdown",
   "metadata": {},
   "source": [
    "Defining general data preprocessing pipelines (one for each distinct feature group)."
   ]
  },
  {
   "cell_type": "code",
   "execution_count": null,
   "metadata": {},
   "outputs": [],
   "source": [
    "from sklearn.compose import ColumnTransformer\n",
    "from sklearn.preprocessing import StandardScaler\n",
    "from sklearn.feature_selection import SelectKBest, VarianceThreshold, f_classif\n",
    "from sklearn.impute import SimpleImputer\n",
    "from sklearn.pipeline import Pipeline\n",
    "from sklearn.preprocessing import OneHotEncoder, OrdinalEncoder\n",
    "\n",
    "numeric_transformer = Pipeline(steps=[\n",
    "    (\"imputer\", SimpleImputer(strategy=\"median\")),\n",
    "    (\"selector_1\", VarianceThreshold(threshold=0.01)),\n",
    "    (\"selector_2\", SelectKBest(score_func=f_classif, k=15)), # Selects k-best features based on F-statistic\n",
    "    (\"scaler\", StandardScaler())\n",
    "])\n",
    "\n",
    "categorical_transformer = Pipeline(steps=[\n",
    "    (\"imputer\", SimpleImputer(fill_value=\"Unknown\", strategy=\"constant\")),\n",
    "    (\"encoder\", OneHotEncoder(handle_unknown=\"ignore\"))\n",
    "])\n",
    "\n",
    "ordinal_transformer = Pipeline(steps=[\n",
    "    (\"imputer\", SimpleImputer(strategy=\"most_frequent\")),\n",
    "    (\"encoder\", OrdinalEncoder(categories=list(ordinal_cols.values()), handle_unknown=\"use_encoded_value\", unknown_value=-1))\n",
    "])\n",
    "\n",
    "preprocessor = ColumnTransformer(transformers=[\n",
    "    (\"num_feats\", numeric_transformer, numerical_cols),\n",
    "    (\"cat_feats\", categorical_transformer, categorical_cols),\n",
    "    (\"ord_feats\", ordinal_transformer, list(ordinal_cols.keys()))\n",
    "])\n"
   ]
  },
  {
   "cell_type": "code",
   "execution_count": null,
   "metadata": {},
   "outputs": [],
   "source": [
    "preprocessor"
   ]
  },
  {
   "cell_type": "code",
   "execution_count": null,
   "metadata": {},
   "outputs": [],
   "source": [
    "# Setup predictive model\n",
    "from sklearn.ensemble import RandomForestClassifier\n",
    "\n",
    "clf = Pipeline(steps=[\n",
    "    (\"preprocessor\", preprocessor),\n",
    "    (\"classifier\", RandomForestClassifier(random_state=69, n_estimators=10))\n",
    "])"
   ]
  },
  {
   "cell_type": "code",
   "execution_count": null,
   "metadata": {},
   "outputs": [],
   "source": [
    "clf"
   ]
  },
  {
   "cell_type": "code",
   "execution_count": null,
   "metadata": {},
   "outputs": [],
   "source": [
    "# Prepare data\n",
    "from sklearn.model_selection import StratifiedKFold, cross_val_score\n",
    "\n",
    "X = df.drop(columns=col_target)\n",
    "y = df[col_target].astype(\"category\").cat.codes\n",
    "categories = df[col_target].astype(\"category\").cat.categories"
   ]
  },
  {
   "cell_type": "code",
   "execution_count": null,
   "metadata": {},
   "outputs": [],
   "source": [
    "X"
   ]
  },
  {
   "cell_type": "code",
   "execution_count": null,
   "metadata": {},
   "outputs": [],
   "source": [
    "X.shape, y.shape"
   ]
  },
  {
   "cell_type": "code",
   "execution_count": null,
   "metadata": {},
   "outputs": [],
   "source": [
    "from sklearn.model_selection import train_test_split\n",
    "\n",
    "X_train, X_test, y_train, y_test = train_test_split(X, y, test_size=0.5, random_state=42, stratify=y)"
   ]
  },
  {
   "cell_type": "code",
   "execution_count": null,
   "metadata": {},
   "outputs": [],
   "source": [
    "print(f\"X_train.shape: {X_train.shape} | y_train.shape: {y_train.shape}\")\n",
    "print(f\"X_test.shape:  {X_test.shape} | y_test.shape:  {y_test.shape}\")"
   ]
  },
  {
   "cell_type": "code",
   "execution_count": null,
   "metadata": {},
   "outputs": [],
   "source": [
    "cv = StratifiedKFold(n_splits=3, shuffle=True, random_state=42)\n",
    "scores = cross_val_score(clf, X_train, y_train, cv=cv, scoring=\"f1_macro\")\n",
    "\n",
    "print(f\"F1 scores: {scores}\")\n",
    "print(f\"Mean F1 score: {scores.mean():.4f} +/- {scores.std():.4f}\")"
   ]
  },
  {
   "cell_type": "code",
   "execution_count": null,
   "metadata": {},
   "outputs": [],
   "source": [
    "# Train model\n",
    "clf.fit(X_train, y_train)"
   ]
  },
  {
   "cell_type": "code",
   "execution_count": null,
   "metadata": {},
   "outputs": [],
   "source": [
    "# Print all the kept features\n",
    "clf[\"preprocessor\"].get_feature_names_out().__len__()"
   ]
  },
  {
   "cell_type": "code",
   "execution_count": null,
   "metadata": {},
   "outputs": [],
   "source": [
    "for feat in clf[\"preprocessor\"].get_feature_names_out():\n",
    "    print(feat)\n",
    "    "
   ]
  },
  {
   "cell_type": "markdown",
   "metadata": {},
   "source": [
    "Running on test data."
   ]
  },
  {
   "cell_type": "code",
   "execution_count": null,
   "metadata": {},
   "outputs": [],
   "source": [
    "from sklearn.metrics import f1_score, precision_score, recall_score, accuracy_score\n",
    "\n",
    "y_pred = clf.predict(X_test)\n",
    "\n",
    "print(f\"Precision: {precision_score(y_test, y_pred):.4f}\")\n",
    "print(f\"Recall: {recall_score(y_test, y_pred):.4f}\")\n",
    "print(f\"F1 score: {f1_score(y_test, y_pred):.4f}\")\n",
    "print(f\"Accuracy: {accuracy_score(y_test, y_pred):.4f}\")"
   ]
  },
  {
   "cell_type": "code",
   "execution_count": null,
   "metadata": {},
   "outputs": [],
   "source": [
    "import matplotlib.pyplot as plt\n",
    "import seaborn as sns\n",
    "from sklearn.metrics import confusion_matrix\n",
    "\n",
    "y_test_series = pd.Series(y_test)\n",
    "y_pred_series = pd.Series(y_pred)\n",
    "\n",
    "cm = confusion_matrix(y_test_series, y_pred_series)\n",
    "\n",
    "fig, ax = plt.subplots(figsize=(4, 4))\n",
    "sns.heatmap(cm, annot=True, cmap=\"YlGnBu\", ax=ax, \n",
    "            xticklabels=categories, yticklabels=categories, fmt='g')\n",
    "ax.set_xlabel(\"Predicted\")\n",
    "ax.set_ylabel(\"True\")\n",
    "ax.set_title(f\"Confusion Matrix ({col_target})\")\n",
    "fig.set_dpi(100)\n",
    "plt.tight_layout()\n",
    "plt.show()\n"
   ]
  },
  {
   "cell_type": "code",
   "execution_count": null,
   "metadata": {},
   "outputs": [],
   "source": [
    "clf.predict_proba(X_test)"
   ]
  },
  {
   "cell_type": "code",
   "execution_count": null,
   "metadata": {},
   "outputs": [],
   "source": [
    "y_pred"
   ]
  },
  {
   "cell_type": "code",
   "execution_count": null,
   "metadata": {},
   "outputs": [],
   "source": [
    "y_test"
   ]
  },
  {
   "cell_type": "code",
   "execution_count": null,
   "metadata": {},
   "outputs": [],
   "source": [
    "import matplotlib.pyplot as plt\n",
    "from sklearn.datasets import make_classification\n",
    "from sklearn.model_selection import train_test_split\n",
    "from sklearn.ensemble import RandomForestClassifier\n",
    "from sklearn.metrics import RocCurveDisplay\n",
    "\n",
    "print(\"Plotting ROC Curve...\")\n",
    "disp = RocCurveDisplay.from_estimator(clf, X_test, y_test)\n",
    "plt.title(\"Receiver Operating Characteristic (ROC) Curve\")\n",
    "plt.show()\n"
   ]
  }
 ],
 "metadata": {
  "kernelspec": {
   "display_name": "base",
   "language": "python",
   "name": "python3"
  },
  "language_info": {
   "codemirror_mode": {
    "name": "ipython",
    "version": 3
   },
   "file_extension": ".py",
   "mimetype": "text/x-python",
   "name": "python",
   "nbconvert_exporter": "python",
   "pygments_lexer": "ipython3",
   "version": "3.12.4"
  }
 },
 "nbformat": 4,
 "nbformat_minor": 2
}
