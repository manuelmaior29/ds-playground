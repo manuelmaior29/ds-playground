{
 "cells": [
  {
   "cell_type": "code",
   "execution_count": 74,
   "id": "3e996124",
   "metadata": {},
   "outputs": [],
   "source": [
    "import pandas as pd"
   ]
  },
  {
   "cell_type": "code",
   "execution_count": 75,
   "id": "8c63988e",
   "metadata": {},
   "outputs": [],
   "source": [
    "df = pd.read_csv(\"data/synthetic_grocery_dataset.csv\")"
   ]
  },
  {
   "cell_type": "code",
   "execution_count": 76,
   "id": "1e01bddb",
   "metadata": {},
   "outputs": [
    {
     "data": {
      "application/vnd.microsoft.datawrangler.viewer.v0+json": {
       "columns": [
        {
         "name": "index",
         "rawType": "int64",
         "type": "integer"
        },
        {
         "name": "Item_ID",
         "rawType": "int64",
         "type": "integer"
        },
        {
         "name": "Item_Name",
         "rawType": "object",
         "type": "string"
        },
        {
         "name": "Item_Description",
         "rawType": "object",
         "type": "string"
        },
        {
         "name": "Price",
         "rawType": "float64",
         "type": "float"
        },
        {
         "name": "Weight (g)",
         "rawType": "int64",
         "type": "integer"
        },
        {
         "name": "Category",
         "rawType": "object",
         "type": "string"
        }
       ],
       "ref": "d07713af-4f55-42fb-a5be-c74910c21447",
       "rows": [
        [
         "0",
         "1",
         "Zucchini",
         "Premium zucchini hand-picked.",
         "15.46",
         "2483",
         "Vegetables"
        ],
        [
         "1",
         "2",
         "Muffin",
         "Premium muffin no added sugar.",
         "13.04",
         "2196",
         "Bakery"
        ],
        [
         "2",
         "3",
         "Carrot",
         "Organic carrot no added sugar.",
         "5.4",
         "208",
         "Vegetables"
        ],
        [
         "3",
         "4",
         "Granola Bar",
         "Imported granola bar hand-picked.",
         "11.04",
         "2328",
         "Snacks"
        ],
        [
         "4",
         "5",
         "Orange",
         "Delicious orange packed with nutrients.",
         "3.75",
         "664",
         "Fruits"
        ],
        [
         "5",
         "6",
         "Lamb Chops",
         "Locally sourced lamb chops packed with nutrients.",
         "3.65",
         "1419",
         "Meat"
        ],
        [
         "6",
         "7",
         "Fruit Snacks",
         "Low-fat fruit snacks from local farms.",
         "5.39",
         "1453",
         "Snacks"
        ],
        [
         "7",
         "8",
         "Cottage Cheese",
         "Delicious cottage cheese packed with nutrients.",
         "10.87",
         "1948",
         "Dairy"
        ],
        [
         "8",
         "9",
         "Pear",
         "Imported pear with natural ingredients.",
         "8.72",
         "1193",
         "Fruits"
        ],
        [
         "9",
         "10",
         "Cucumber",
         "Organic cucumber with natural ingredients.",
         "6.59",
         "181",
         "Vegetables"
        ],
        [
         "10",
         "11",
         "Flour",
         "Low-fat flour from local farms.",
         "1.73",
         "1050",
         "Pantry"
        ],
        [
         "11",
         "12",
         "Mineral Water",
         "Low-fat mineral water packed with nutrients.",
         "9.17",
         "2585",
         "Beverages"
        ],
        [
         "12",
         "13",
         "Onion",
         "Low-fat onion with natural ingredients.",
         "2.45",
         "1659",
         "Vegetables"
        ],
        [
         "13",
         "14",
         "Pretzels",
         "Organic pretzels with natural ingredients.",
         "0.91",
         "1017",
         "Snacks"
        ],
        [
         "14",
         "15",
         "Roll",
         "Fresh roll with natural ingredients.",
         "17.19",
         "1316",
         "Bakery"
        ],
        [
         "15",
         "16",
         "Turkey",
         "Premium turkey packed with nutrients.",
         "7.58",
         "2272",
         "Meat"
        ],
        [
         "16",
         "17",
         "Carrot",
         "Organic carrot no added sugar.",
         "8.71",
         "2412",
         "Vegetables"
        ],
        [
         "17",
         "18",
         "Baguette",
         "Gluten-free baguette no added sugar.",
         "5.94",
         "1516",
         "Bakery"
        ],
        [
         "18",
         "19",
         "Cereal",
         "Locally sourced cereal hand-picked.",
         "17.9",
         "2529",
         "Pantry"
        ],
        [
         "19",
         "20",
         "Green Tea",
         "Organic green tea from local farms.",
         "9.01",
         "1884",
         "Beverages"
        ],
        [
         "20",
         "21",
         "Bagel",
         "Organic bagel no added sugar.",
         "5.21",
         "2408",
         "Bakery"
        ],
        [
         "21",
         "22",
         "Salt",
         "Organic salt packed with nutrients.",
         "10.89",
         "563",
         "Pantry"
        ],
        [
         "22",
         "23",
         "Sausage",
         "Low-fat sausage with natural ingredients.",
         "9.33",
         "1597",
         "Meat"
        ],
        [
         "23",
         "24",
         "Turkey",
         "Locally sourced turkey hand-picked.",
         "2.5",
         "1289",
         "Meat"
        ],
        [
         "24",
         "25",
         "Cottage Cheese",
         "Fresh cottage cheese hand-picked.",
         "18.26",
         "686",
         "Dairy"
        ],
        [
         "25",
         "26",
         "Pork Chops",
         "Delicious pork chops hand-picked.",
         "10.32",
         "2944",
         "Meat"
        ],
        [
         "26",
         "27",
         "Orange Juice",
         "Low-fat orange juice hand-picked.",
         "8.58",
         "2794",
         "Beverages"
        ],
        [
         "27",
         "28",
         "Frozen Berries",
         "Locally sourced frozen berries no added sugar.",
         "17.85",
         "2211",
         "Frozen"
        ],
        [
         "28",
         "29",
         "Cheese",
         "Premium cheese from local farms.",
         "17.8",
         "1291",
         "Dairy"
        ],
        [
         "29",
         "30",
         "Cream",
         "Delicious cream with natural ingredients.",
         "1.77",
         "1365",
         "Dairy"
        ],
        [
         "30",
         "31",
         "Sardines",
         "Fresh sardines packed with nutrients.",
         "14.87",
         "692",
         "Seafood"
        ],
        [
         "31",
         "32",
         "Lettuce",
         "Low-fat lettuce with natural ingredients.",
         "8.46",
         "367",
         "Vegetables"
        ],
        [
         "32",
         "33",
         "Frozen Corn",
         "Imported frozen corn with natural ingredients.",
         "4.7",
         "428",
         "Frozen"
        ],
        [
         "33",
         "34",
         "Beef Steak",
         "Gluten-free beef steak hand-picked.",
         "8.86",
         "1083",
         "Meat"
        ],
        [
         "34",
         "35",
         "Sour Cream",
         "Organic sour cream from local farms.",
         "5.95",
         "1952",
         "Dairy"
        ],
        [
         "35",
         "36",
         "Cod",
         "Premium cod no added sugar.",
         "7.1",
         "1664",
         "Seafood"
        ],
        [
         "36",
         "37",
         "Frozen Fries",
         "Sugar-free frozen fries from local farms.",
         "17.22",
         "2406",
         "Frozen"
        ],
        [
         "37",
         "38",
         "Frozen Fries",
         "Low-fat frozen fries hand-picked.",
         "4.76",
         "282",
         "Frozen"
        ],
        [
         "38",
         "39",
         "Sausage",
         "Premium sausage packed with nutrients.",
         "2.85",
         "2554",
         "Meat"
        ],
        [
         "39",
         "40",
         "Apple",
         "Locally sourced apple with natural ingredients.",
         "12.78",
         "2654",
         "Fruits"
        ],
        [
         "40",
         "41",
         "Donut",
         "Low-fat donut packed with nutrients.",
         "12.23",
         "1330",
         "Bakery"
        ],
        [
         "41",
         "42",
         "Rice",
         "Low-fat rice hand-picked.",
         "1.24",
         "2736",
         "Pantry"
        ],
        [
         "42",
         "43",
         "Spices",
         "Delicious spices hand-picked.",
         "14.53",
         "1779",
         "Pantry"
        ],
        [
         "43",
         "44",
         "Pretzels",
         "Low-fat pretzels packed with nutrients.",
         "15.26",
         "1133",
         "Snacks"
        ],
        [
         "44",
         "45",
         "Frozen Corn",
         "Organic frozen corn hand-picked.",
         "1.01",
         "389",
         "Frozen"
        ],
        [
         "45",
         "46",
         "Yogurt",
         "Low-fat yogurt with natural ingredients.",
         "1.08",
         "880",
         "Dairy"
        ],
        [
         "46",
         "47",
         "Lettuce",
         "Organic lettuce from local farms.",
         "12.8",
         "1861",
         "Vegetables"
        ],
        [
         "47",
         "48",
         "Ham",
         "Premium ham hand-picked.",
         "11.04",
         "1345",
         "Meat"
        ],
        [
         "48",
         "49",
         "Frozen Nuggets",
         "Sugar-free frozen nuggets no added sugar.",
         "10.19",
         "621",
         "Frozen"
        ],
        [
         "49",
         "50",
         "Orange Juice",
         "Fresh orange juice from local farms.",
         "19.01",
         "2167",
         "Beverages"
        ]
       ],
       "shape": {
        "columns": 6,
        "rows": 500
       }
      },
      "text/html": [
       "<div>\n",
       "<style scoped>\n",
       "    .dataframe tbody tr th:only-of-type {\n",
       "        vertical-align: middle;\n",
       "    }\n",
       "\n",
       "    .dataframe tbody tr th {\n",
       "        vertical-align: top;\n",
       "    }\n",
       "\n",
       "    .dataframe thead th {\n",
       "        text-align: right;\n",
       "    }\n",
       "</style>\n",
       "<table border=\"1\" class=\"dataframe\">\n",
       "  <thead>\n",
       "    <tr style=\"text-align: right;\">\n",
       "      <th></th>\n",
       "      <th>Item_ID</th>\n",
       "      <th>Item_Name</th>\n",
       "      <th>Item_Description</th>\n",
       "      <th>Price</th>\n",
       "      <th>Weight (g)</th>\n",
       "      <th>Category</th>\n",
       "    </tr>\n",
       "  </thead>\n",
       "  <tbody>\n",
       "    <tr>\n",
       "      <th>0</th>\n",
       "      <td>1</td>\n",
       "      <td>Zucchini</td>\n",
       "      <td>Premium zucchini hand-picked.</td>\n",
       "      <td>15.46</td>\n",
       "      <td>2483</td>\n",
       "      <td>Vegetables</td>\n",
       "    </tr>\n",
       "    <tr>\n",
       "      <th>1</th>\n",
       "      <td>2</td>\n",
       "      <td>Muffin</td>\n",
       "      <td>Premium muffin no added sugar.</td>\n",
       "      <td>13.04</td>\n",
       "      <td>2196</td>\n",
       "      <td>Bakery</td>\n",
       "    </tr>\n",
       "    <tr>\n",
       "      <th>2</th>\n",
       "      <td>3</td>\n",
       "      <td>Carrot</td>\n",
       "      <td>Organic carrot no added sugar.</td>\n",
       "      <td>5.40</td>\n",
       "      <td>208</td>\n",
       "      <td>Vegetables</td>\n",
       "    </tr>\n",
       "    <tr>\n",
       "      <th>3</th>\n",
       "      <td>4</td>\n",
       "      <td>Granola Bar</td>\n",
       "      <td>Imported granola bar hand-picked.</td>\n",
       "      <td>11.04</td>\n",
       "      <td>2328</td>\n",
       "      <td>Snacks</td>\n",
       "    </tr>\n",
       "    <tr>\n",
       "      <th>4</th>\n",
       "      <td>5</td>\n",
       "      <td>Orange</td>\n",
       "      <td>Delicious orange packed with nutrients.</td>\n",
       "      <td>3.75</td>\n",
       "      <td>664</td>\n",
       "      <td>Fruits</td>\n",
       "    </tr>\n",
       "    <tr>\n",
       "      <th>...</th>\n",
       "      <td>...</td>\n",
       "      <td>...</td>\n",
       "      <td>...</td>\n",
       "      <td>...</td>\n",
       "      <td>...</td>\n",
       "      <td>...</td>\n",
       "    </tr>\n",
       "    <tr>\n",
       "      <th>495</th>\n",
       "      <td>496</td>\n",
       "      <td>Garlic</td>\n",
       "      <td>Premium garlic from local farms.</td>\n",
       "      <td>11.77</td>\n",
       "      <td>2599</td>\n",
       "      <td>Vegetables</td>\n",
       "    </tr>\n",
       "    <tr>\n",
       "      <th>496</th>\n",
       "      <td>497</td>\n",
       "      <td>Frozen Berries</td>\n",
       "      <td>Delicious frozen berries from local farms.</td>\n",
       "      <td>2.12</td>\n",
       "      <td>2622</td>\n",
       "      <td>Frozen</td>\n",
       "    </tr>\n",
       "    <tr>\n",
       "      <th>497</th>\n",
       "      <td>498</td>\n",
       "      <td>Frozen Pizza</td>\n",
       "      <td>Low-fat frozen pizza with natural ingredients.</td>\n",
       "      <td>3.22</td>\n",
       "      <td>2043</td>\n",
       "      <td>Frozen</td>\n",
       "    </tr>\n",
       "    <tr>\n",
       "      <th>498</th>\n",
       "      <td>499</td>\n",
       "      <td>Banana</td>\n",
       "      <td>Gluten-free banana no added sugar.</td>\n",
       "      <td>13.46</td>\n",
       "      <td>1920</td>\n",
       "      <td>Fruits</td>\n",
       "    </tr>\n",
       "    <tr>\n",
       "      <th>499</th>\n",
       "      <td>500</td>\n",
       "      <td>Energy Drink</td>\n",
       "      <td>Fresh energy drink no added sugar.</td>\n",
       "      <td>9.77</td>\n",
       "      <td>1579</td>\n",
       "      <td>Beverages</td>\n",
       "    </tr>\n",
       "  </tbody>\n",
       "</table>\n",
       "<p>500 rows × 6 columns</p>\n",
       "</div>"
      ],
      "text/plain": [
       "     Item_ID       Item_Name                                Item_Description  \\\n",
       "0          1        Zucchini                   Premium zucchini hand-picked.   \n",
       "1          2          Muffin                  Premium muffin no added sugar.   \n",
       "2          3          Carrot                  Organic carrot no added sugar.   \n",
       "3          4     Granola Bar               Imported granola bar hand-picked.   \n",
       "4          5          Orange         Delicious orange packed with nutrients.   \n",
       "..       ...             ...                                             ...   \n",
       "495      496          Garlic                Premium garlic from local farms.   \n",
       "496      497  Frozen Berries      Delicious frozen berries from local farms.   \n",
       "497      498    Frozen Pizza  Low-fat frozen pizza with natural ingredients.   \n",
       "498      499          Banana              Gluten-free banana no added sugar.   \n",
       "499      500    Energy Drink              Fresh energy drink no added sugar.   \n",
       "\n",
       "     Price  Weight (g)    Category  \n",
       "0    15.46        2483  Vegetables  \n",
       "1    13.04        2196      Bakery  \n",
       "2     5.40         208  Vegetables  \n",
       "3    11.04        2328      Snacks  \n",
       "4     3.75         664      Fruits  \n",
       "..     ...         ...         ...  \n",
       "495  11.77        2599  Vegetables  \n",
       "496   2.12        2622      Frozen  \n",
       "497   3.22        2043      Frozen  \n",
       "498  13.46        1920      Fruits  \n",
       "499   9.77        1579   Beverages  \n",
       "\n",
       "[500 rows x 6 columns]"
      ]
     },
     "execution_count": 76,
     "metadata": {},
     "output_type": "execute_result"
    }
   ],
   "source": [
    "df"
   ]
  },
  {
   "cell_type": "markdown",
   "id": "76bb99a2",
   "metadata": {},
   "source": [
    "Keep only unique grocery items."
   ]
  },
  {
   "cell_type": "code",
   "execution_count": 77,
   "id": "38dd6653",
   "metadata": {},
   "outputs": [],
   "source": [
    "df = df.drop_duplicates(keep=\"first\", subset=[\"Item_Name\"])"
   ]
  },
  {
   "cell_type": "code",
   "execution_count": 78,
   "id": "c0ba3d0c",
   "metadata": {},
   "outputs": [],
   "source": [
    "import matplotlib.pyplot as plt\n",
    "import seaborn as sns"
   ]
  },
  {
   "cell_type": "markdown",
   "id": "6d831f9e",
   "metadata": {},
   "source": [
    "Visualize the distribution of grocery items by category and check class balance."
   ]
  },
  {
   "cell_type": "code",
   "execution_count": null,
   "id": "1c9c5989",
   "metadata": {},
   "outputs": [
    {
     "name": "stderr",
     "output_type": "stream",
     "text": [
      "C:\\Users\\Manuel\\AppData\\Local\\Temp\\ipykernel_38568\\1216101316.py:3: FutureWarning: \n",
      "\n",
      "Passing `palette` without assigning `hue` is deprecated and will be removed in v0.14.0. Assign the `x` variable to `hue` and set `legend=False` for the same effect.\n",
      "\n",
      "  ax = sns.countplot(x=\"Category\", data=df, palette=\"Set2\")\n"
     ]
    },
    {
     "data": {
      "image/png": "[encoded data removed]",
      "text/plain": [
       "<Figure size 1200x600 with 1 Axes>"
      ]
     },
     "metadata": {},
     "output_type": "display_data"
    }
   ],
   "source": [
    "fig, ax = plt.subplots(figsize=(12, 6))\n",
    "ax = sns.countplot(x=\"Category\", data=df, palette=\"Set2\")\n",
    "ax.set_title(\"Count by Category\")\n",
    "ax.set_xlabel(\"Category\")\n",
    "ax.set_ylabel(\"Count\")\n",
    "\n",
    "for p in ax.patches:\n",
    "    height = p.get_height()\n",
    "    ax.text(p.get_x() + p.get_width() / 2., height / 2, '{:1.0f}'.format(height), ha=\"center\")"
   ]
  },
  {
   "cell_type": "markdown",
   "id": "9bedded8",
   "metadata": {},
   "source": [
    "### Category segments inspection\n",
    "Just as a check, I thought about using a sentence transformer to output embeddings for grocery items so that I could visualize their grouping. For this specifically I will:\n",
    "1. Convert item names to embeddings.\n",
    "2. Reduce the number of dimensions per embedding to 2.\n",
    "3. Scatter plot the points in 2D with unique color per category."
   ]
  },
  {
   "cell_type": "code",
   "execution_count": 80,
   "id": "c723ec32",
   "metadata": {},
   "outputs": [],
   "source": [
    "from sentence_transformers import SentenceTransformer\n",
    "\n",
    "model = SentenceTransformer('all-MiniLM-L6-v2')\n",
    "item_embeddings = model.encode(df[\"Item_Name\"].tolist())"
   ]
  },
  {
   "cell_type": "code",
   "execution_count": 81,
   "id": "87cf1c74",
   "metadata": {},
   "outputs": [
    {
     "data": {
      "text/plain": [
       "(92, 384)"
      ]
     },
     "execution_count": 81,
     "metadata": {},
     "output_type": "execute_result"
    }
   ],
   "source": [
    "item_embeddings.shape"
   ]
  },
  {
   "cell_type": "code",
   "execution_count": 82,
   "id": "51db90b9",
   "metadata": {},
   "outputs": [],
   "source": [
    "# Reducing dimensionality using t-SNE\n",
    "from sklearn.manifold import TSNE\n",
    "item_embeddings_2d = TSNE(n_components=2).fit_transform(item_embeddings)"
   ]
  },
  {
   "cell_type": "code",
   "execution_count": 83,
   "id": "a12769b4",
   "metadata": {},
   "outputs": [
    {
     "name": "stderr",
     "output_type": "stream",
     "text": [
      "C:\\Users\\Manuel\\AppData\\Local\\Temp\\ipykernel_38568\\2721918288.py:1: SettingWithCopyWarning: \n",
      "A value is trying to be set on a copy of a slice from a DataFrame.\n",
      "Try using .loc[row_indexer,col_indexer] = value instead\n",
      "\n",
      "See the caveats in the documentation: https://pandas.pydata.org/pandas-docs/stable/user_guide/indexing.html#returning-a-view-versus-a-copy\n",
      "  df[\"Item_Name_Embedding_2D\"] = list(item_embeddings_2d)\n"
     ]
    }
   ],
   "source": [
    "df[\"Item_Name_Embedding_2D\"] = list(item_embeddings_2d)"
   ]
  },
  {
   "cell_type": "code",
   "execution_count": 84,
   "id": "3586c33a",
   "metadata": {},
   "outputs": [],
   "source": [
    "import numpy as np"
   ]
  },
  {
   "cell_type": "code",
   "execution_count": 85,
   "id": "6d05ea87",
   "metadata": {},
   "outputs": [
    {
     "name": "stderr",
     "output_type": "stream",
     "text": [
      "C:\\Users\\Manuel\\AppData\\Local\\Temp\\ipykernel_38568\\1925325705.py:1: SettingWithCopyWarning: \n",
      "A value is trying to be set on a copy of a slice from a DataFrame.\n",
      "Try using .loc[row_indexer,col_indexer] = value instead\n",
      "\n",
      "See the caveats in the documentation: https://pandas.pydata.org/pandas-docs/stable/user_guide/indexing.html#returning-a-view-versus-a-copy\n",
      "  df[\"Item_Name_Embedding_2D\"] = df[\"Item_Name_Embedding_2D\"].apply(lambda x: np.array(x))\n"
     ]
    }
   ],
   "source": [
    "df[\"Item_Name_Embedding_2D\"] = df[\"Item_Name_Embedding_2D\"].apply(lambda x: np.array(x))"
   ]
  },
  {
   "cell_type": "code",
   "execution_count": 86,
   "id": "cab9a93a",
   "metadata": {},
   "outputs": [
    {
     "data": {
      "text/plain": [
       "array([101.87411 , -52.283382], dtype=float32)"
      ]
     },
     "execution_count": 86,
     "metadata": {},
     "output_type": "execute_result"
    }
   ],
   "source": [
    "df[\"Item_Name_Embedding_2D\"].apply(lambda x: np.array(x)).sum()"
   ]
  },
  {
   "cell_type": "code",
   "execution_count": 87,
   "id": "d9063db6",
   "metadata": {},
   "outputs": [],
   "source": [
    "df_centroids = df.groupby(\"Category\")[\"Item_Name_Embedding_2D\"].apply(lambda x: np.mean(x, axis=0))"
   ]
  },
  {
   "cell_type": "code",
   "execution_count": 88,
   "id": "eb41a192",
   "metadata": {},
   "outputs": [],
   "source": [
    "import hashlib\n",
    "def map_string_to_color(string: str) -> str:\n",
    "    return \"#\" + hashlib.md5(string.encode(\"utf-8\")).hexdigest()[-6:]"
   ]
  },
  {
   "cell_type": "code",
   "execution_count": 89,
   "id": "8f7ea885",
   "metadata": {},
   "outputs": [
    {
     "name": "stderr",
     "output_type": "stream",
     "text": [
      "C:\\Users\\Manuel\\AppData\\Local\\Temp\\ipykernel_38568\\520024804.py:9: FutureWarning: Series.__getitem__ treating keys as positions is deprecated. In a future version, integer keys will always be treated as labels (consistent with DataFrame behavior). To access a value by position, use `ser.iloc[pos]`\n",
      "  ax.text(df_centroids[idx][0], df_centroids[idx][1], label, ha=\"center\")\n"
     ]
    },
    {
     "data": {
      "image/png": "[encoded data removed]",
      "text/plain": [
       "<Figure size 1200x600 with 1 Axes>"
      ]
     },
     "metadata": {},
     "output_type": "display_data"
    }
   ],
   "source": [
    "# Scatter plot of embeddings\n",
    "fig, ax = plt.subplots(figsize=(12, 6))\n",
    "ax.scatter(item_embeddings_2d[:, 0], item_embeddings_2d[:, 1], c=df[\"Category\"].apply(map_string_to_color))\n",
    "ax.set_title(\"Grocery items embeddings in 2D space\")\n",
    "ax.set_xlabel(\"Dimension 1\")\n",
    "ax.set_ylabel(\"Dimension 2\")\n",
    "\n",
    "for idx, label in enumerate(df[\"Category\"].unique()):\n",
    "    ax.text(df_centroids[idx][0], df_centroids[idx][1], label, ha=\"center\")"
   ]
  },
  {
   "cell_type": "markdown",
   "id": "d10ca810",
   "metadata": {},
   "source": [
    "A rather decent grouping of the related items can be seen. Will proceed with a trial for fine-tuning a lightweight autoencoder for classification (e.g., DistilBERT)."
   ]
  },
  {
   "cell_type": "markdown",
   "id": "30ca81e9",
   "metadata": {},
   "source": [
    "### DistilBERT fine-tuning for groceries classification"
   ]
  },
  {
   "cell_type": "code",
   "execution_count": 90,
   "id": "b77ca837",
   "metadata": {},
   "outputs": [
    {
     "name": "stdout",
     "output_type": "stream",
     "text": [
      "Number of labels: 10\n"
     ]
    },
    {
     "name": "stderr",
     "output_type": "stream",
     "text": [
      "C:\\Users\\Manuel\\AppData\\Local\\Temp\\ipykernel_38568\\1349818050.py:3: SettingWithCopyWarning: \n",
      "A value is trying to be set on a copy of a slice from a DataFrame.\n",
      "Try using .loc[row_indexer,col_indexer] = value instead\n",
      "\n",
      "See the caveats in the documentation: https://pandas.pydata.org/pandas-docs/stable/user_guide/indexing.html#returning-a-view-versus-a-copy\n",
      "  df[\"labels\"] = le.fit_transform(df[\"Category\"])\n"
     ]
    }
   ],
   "source": [
    "from sklearn.preprocessing import LabelEncoder\n",
    "le = LabelEncoder()\n",
    "df[\"labels\"] = le.fit_transform(df[\"Category\"])\n",
    "num_labels = len(le.classes_)\n",
    "print(f\"Number of labels: {num_labels}\")"
   ]
  },
  {
   "cell_type": "code",
   "execution_count": 91,
   "id": "17462366",
   "metadata": {},
   "outputs": [],
   "source": [
    "from transformers import DistilBertTokenizerFast\n",
    "from datasets import Dataset\n",
    "\n",
    "# Load the tokenzier needed by DistilBERT\n",
    "tokenizer = DistilBertTokenizerFast.from_pretrained(\"distilbert-base-uncased\")\n",
    "\n",
    "# Load the dataset\n",
    "dataset = Dataset.from_pandas(df[[\"Item_Name\", \"labels\"]])"
   ]
  },
  {
   "cell_type": "code",
   "execution_count": 92,
   "id": "6089f8fe",
   "metadata": {},
   "outputs": [],
   "source": [
    "def tokenize(example):\n",
    "    encoding = tokenizer(\n",
    "        example[\"Item_Name\"],\n",
    "        padding=\"max_length\",\n",
    "        truncation=True,\n",
    "        max_length=64\n",
    "    )\n",
    "    encoding[\"labels\"] = example[\"labels\"]\n",
    "    return encoding\n"
   ]
  },
  {
   "cell_type": "code",
   "execution_count": 93,
   "id": "08abaf4c",
   "metadata": {},
   "outputs": [
    {
     "name": "stderr",
     "output_type": "stream",
     "text": [
      "Map: 100%|██████████| 92/92 [00:00<00:00, 8366.24 examples/s]\n"
     ]
    }
   ],
   "source": [
    "tokenized_dataset = dataset.map(tokenize, batched=True)\n",
    "tokenized_dataset = tokenized_dataset.train_test_split(test_size=0.2)"
   ]
  },
  {
   "cell_type": "code",
   "execution_count": 94,
   "id": "303ff682",
   "metadata": {},
   "outputs": [
    {
     "data": {
      "text/plain": [
       "DatasetDict({\n",
       "    train: Dataset({\n",
       "        features: ['Item_Name', 'labels', '__index_level_0__', 'input_ids', 'attention_mask'],\n",
       "        num_rows: 73\n",
       "    })\n",
       "    test: Dataset({\n",
       "        features: ['Item_Name', 'labels', '__index_level_0__', 'input_ids', 'attention_mask'],\n",
       "        num_rows: 19\n",
       "    })\n",
       "})"
      ]
     },
     "execution_count": 94,
     "metadata": {},
     "output_type": "execute_result"
    }
   ],
   "source": [
    "tokenized_dataset"
   ]
  },
  {
   "cell_type": "code",
   "execution_count": 95,
   "id": "3938c289",
   "metadata": {},
   "outputs": [
    {
     "name": "stderr",
     "output_type": "stream",
     "text": [
      "Some weights of DistilBertForSequenceClassification were not initialized from the model checkpoint at distilbert-base-uncased and are newly initialized: ['classifier.bias', 'classifier.weight', 'pre_classifier.bias', 'pre_classifier.weight']\n",
      "You should probably TRAIN this model on a down-stream task to be able to use it for predictions and inference.\n"
     ]
    }
   ],
   "source": [
    "from transformers import DistilBertForSequenceClassification\n",
    "\n",
    "model = DistilBertForSequenceClassification.from_pretrained(\n",
    "    \"distilbert-base-uncased\", \n",
    "    num_labels=num_labels\n",
    ")"
   ]
  },
  {
   "cell_type": "code",
   "execution_count": 96,
   "id": "fdc21a7a",
   "metadata": {},
   "outputs": [],
   "source": [
    "from transformers import TrainingArguments\n",
    "\n",
    "training_args = TrainingArguments(\n",
    "    output_dir=\"./results\",\n",
    "    eval_strategy=\"epoch\",\n",
    "    per_device_train_batch_size=16,\n",
    "    per_device_eval_batch_size=16,\n",
    "    num_train_epochs=5,\n",
    "    weight_decay=0.01,\n",
    "    logging_dir='./logs',\n",
    "    logging_steps=10\n",
    ")"
   ]
  },
  {
   "cell_type": "code",
   "execution_count": 97,
   "id": "1a56656c",
   "metadata": {},
   "outputs": [],
   "source": [
    "from sklearn.metrics import accuracy_score, f1_score\n",
    "\n",
    "def compute_metrics(pred):\n",
    "    labels = pred.label_ids\n",
    "    preds = pred.predictions.argmax(-1)\n",
    "    return {\n",
    "        \"accuracy\": accuracy_score(labels, preds),\n",
    "        \"f1\": f1_score(labels, preds, average=\"weighted\")\n",
    "    }"
   ]
  },
  {
   "cell_type": "code",
   "execution_count": 98,
   "id": "ba93e955",
   "metadata": {},
   "outputs": [],
   "source": [
    "import mlflow\n",
    "from transformers import TrainerCallback\n",
    "\n",
    "class MLFlowLoggingCallback(TrainerCallback):\n",
    "    def on_log(self, args, state, control, logs=None, **kwargs):\n",
    "        if logs:\n",
    "            for k, v in logs.items():\n",
    "                mlflow.log_metric(k, v, step=state.global_step)"
   ]
  },
  {
   "cell_type": "code",
   "execution_count": null,
   "id": "1b5d2847",
   "metadata": {},
   "outputs": [
    {
     "name": "stdout",
     "output_type": "stream",
     "text": [
      "True\n"
     ]
    }
   ],
   "source": [
    "import torch\n",
    "torch.__version__\n",
    "print(torch.cuda.is_available())"
   ]
  },
  {
   "cell_type": "code",
   "execution_count": 100,
   "id": "bdabd03e",
   "metadata": {},
   "outputs": [
    {
     "name": "stderr",
     "output_type": "stream",
     "text": [
      "C:\\Users\\Manuel\\AppData\\Local\\Temp\\ipykernel_38568\\4187455313.py:13: FutureWarning: `tokenizer` is deprecated and will be removed in version 5.0.0 for `Trainer.__init__`. Use `processing_class` instead.\n",
      "  trainer = Trainer(\n"
     ]
    },
    {
     "data": {
      "text/html": [
       "\n",
       "    <div>\n",
       "      \n",
       "      <progress value='25' max='25' style='width:300px; height:20px; vertical-align: middle;'></progress>\n",
       "      [25/25 00:10, Epoch 5/5]\n",
       "    </div>\n",
       "    <table border=\"1\" class=\"dataframe\">\n",
       "  <thead>\n",
       " <tr style=\"text-align: left;\">\n",
       "      <th>Epoch</th>\n",
       "      <th>Training Loss</th>\n",
       "      <th>Validation Loss</th>\n",
       "      <th>Accuracy</th>\n",
       "      <th>F1</th>\n",
       "    </tr>\n",
       "  </thead>\n",
       "  <tbody>\n",
       "    <tr>\n",
       "      <td>1</td>\n",
       "      <td>No log</td>\n",
       "      <td>2.301832</td>\n",
       "      <td>0.210526</td>\n",
       "      <td>0.096241</td>\n",
       "    </tr>\n",
       "    <tr>\n",
       "      <td>2</td>\n",
       "      <td>2.278200</td>\n",
       "      <td>2.272671</td>\n",
       "      <td>0.210526</td>\n",
       "      <td>0.108453</td>\n",
       "    </tr>\n",
       "    <tr>\n",
       "      <td>3</td>\n",
       "      <td>2.278200</td>\n",
       "      <td>2.212655</td>\n",
       "      <td>0.315789</td>\n",
       "      <td>0.215205</td>\n",
       "    </tr>\n",
       "    <tr>\n",
       "      <td>4</td>\n",
       "      <td>2.106500</td>\n",
       "      <td>2.187974</td>\n",
       "      <td>0.315789</td>\n",
       "      <td>0.216291</td>\n",
       "    </tr>\n",
       "    <tr>\n",
       "      <td>5</td>\n",
       "      <td>2.106500</td>\n",
       "      <td>2.171230</td>\n",
       "      <td>0.315789</td>\n",
       "      <td>0.214536</td>\n",
       "    </tr>\n",
       "  </tbody>\n",
       "</table><p>"
      ],
      "text/plain": [
       "<IPython.core.display.HTML object>"
      ]
     },
     "metadata": {},
     "output_type": "display_data"
    },
    {
     "name": "stderr",
     "output_type": "stream",
     "text": [
      "2025/06/29 17:14:30 WARNING mlflow.models.model: `artifact_path` is deprecated. Please use `name` instead.\n",
      "Device set to use cuda:0\n",
      "2025/06/29 17:14:32 WARNING mlflow.utils.requirements_utils: Found torch version (2.7.1+cu126) contains a local version label (+cu126). MLflow logged a pip requirement for this package as 'torch==2.7.1' without the local version label to make it installable from PyPI. To specify pip requirements containing local version labels, please use `conda_env` or `pip_requirements`.\n",
      "2025/06/29 17:14:32 WARNING mlflow.utils.requirements_utils: Found torchvision version (0.22.1+cu126) contains a local version label (+cu126). MLflow logged a pip requirement for this package as 'torchvision==0.22.1' without the local version label to make it installable from PyPI. To specify pip requirements containing local version labels, please use `conda_env` or `pip_requirements`.\n",
      "2025/06/29 17:14:32 WARNING mlflow.utils.environment: On Windows, timeout is not supported for model requirement inference. Therefore, the operation is not bound by a timeout and may hang indefinitely. If it hangs, please consider specifying the signature manually.\n",
      "2025/06/29 17:14:43 WARNING mlflow.utils.requirements_utils: Found torchvision version (0.22.1+cu126) contains a local version label (+cu126). MLflow logged a pip requirement for this package as 'torchvision==0.22.1' without the local version label to make it installable from PyPI. To specify pip requirements containing local version labels, please use `conda_env` or `pip_requirements`.\n"
     ]
    },
    {
     "name": "stdout",
     "output_type": "stream",
     "text": [
      "🏃 View run distilbert-grocery-classification at: http://localhost:5000/#/experiments/0/runs/a465bcca458047b197963a74d1f94315\n",
      "🧪 View experiment at: http://localhost:5000/#/experiments/0\n"
     ]
    }
   ],
   "source": [
    "import mlflow.transformers\n",
    "from transformers import Trainer\n",
    "\n",
    "mlflow.set_tracking_uri(\"http://localhost:5000\")\n",
    "with mlflow.start_run(run_name=\"distilbert-grocery-classification\"):\n",
    "\n",
    "    # Log params\n",
    "    mlflow.log_param(\"model_name\", \"distilbert-base-uncased\")\n",
    "    mlflow.log_param(\"epochs\", training_args.num_train_epochs)\n",
    "    mlflow.log_param(\"batch_size\", training_args.per_device_train_batch_size)\n",
    "    mlflow.log_param(\"weight_decay\", training_args.weight_decay)\n",
    "\n",
    "    trainer = Trainer(\n",
    "        model=model,\n",
    "        args=training_args,\n",
    "        train_dataset=tokenized_dataset[\"train\"],\n",
    "        eval_dataset=tokenized_dataset[\"test\"],\n",
    "        compute_metrics=compute_metrics,\n",
    "        tokenizer=tokenizer,\n",
    "        callbacks=[MLFlowLoggingCallback()]\n",
    "    )\n",
    "\n",
    "    trainer.train()\n",
    "\n",
    "    save_path = \"groceries-distilbert-mlflow\"\n",
    "    trainer.save_model(save_path)\n",
    "    tokenizer.save_pretrained(save_path)\n",
    "\n",
    "    mlflow.transformers.log_model(\n",
    "        transformers_model={\"model\": model, \"tokenizer\": tokenizer},\n",
    "        artifact_path=\"model\",\n",
    "        task=\"text-classification\"\n",
    "    )"
   ]
  },
  {
   "cell_type": "code",
   "execution_count": null,
   "id": "72281cf3",
   "metadata": {},
   "outputs": [],
   "source": [
    "model_uri = \"runs:/9d2521c39c3349eab434e36db8cb9a82/model\"\n",
    "loaded_pipeline = mlflow.transformers.load_model(model_uri)"
   ]
  },
  {
   "cell_type": "code",
   "execution_count": 161,
   "id": "6718ff84",
   "metadata": {},
   "outputs": [
    {
     "name": "stdout",
     "output_type": "stream",
     "text": [
      "Item: apricot \t Predicted label: Fruits [56.70%] \t Is in original dataset?: False\n",
      "Item: apio \t Predicted label: Vegetables [81.89%] \t Is in original dataset?: False\n",
      "Item: apple \t Predicted label: Fruits [98.82%] \t Is in original dataset?: True\n",
      "Item: peach \t Predicted label: Fruits [98.65%] \t Is in original dataset?: False\n",
      "Item: trout \t Predicted label: Seafood [98.24%] \t Is in original dataset?: False\n"
     ]
    }
   ],
   "source": [
    "# Check an arbitrary item category\n",
    "test_items = [\"apricot\", \"apio\", \"apple\", \"peach\", \"trout\"]\n",
    "for item in test_items:\n",
    "    pred = loaded_pipeline.predict(item)\n",
    "    label = le.inverse_transform([int(pred[0][\"label\"].split(\"_\")[1])])[0]\n",
    "    print(f\"Item: {item} \\t Predicted label: {label} [{pred[0]['score']*100:.2f}%] \\t Is in original dataset?: {df['Item_Name'].str.lower().str.fullmatch(item).sum() > 0}\")"
   ]
  }
 ],
 "metadata": {
  "kernelspec": {
   "display_name": "hugging_face_ai_agents_course",
   "language": "python",
   "name": "python3"
  },
  "language_info": {
   "codemirror_mode": {
    "name": "ipython",
    "version": 3
   },
   "file_extension": ".py",
   "mimetype": "text/x-python",
   "name": "python",
   "nbconvert_exporter": "python",
   "pygments_lexer": "ipython3",
   "version": "3.13.5"
  }
 },
 "nbformat": 4,
 "nbformat_minor": 5
}
