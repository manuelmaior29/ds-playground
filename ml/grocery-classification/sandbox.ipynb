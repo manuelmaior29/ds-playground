{
 "cells": [
  {
   "cell_type": "code",
   "execution_count": 5,
   "id": "3e996124",
   "metadata": {},
   "outputs": [],
   "source": [
    "import pandas as pd"
   ]
  },
  {
   "cell_type": "code",
   "execution_count": 6,
   "id": "8c63988e",
   "metadata": {},
   "outputs": [],
   "source": [
    "df = pd.read_csv(\"data/synthetic_grocery_dataset.csv\")"
   ]
  },
  {
   "cell_type": "code",
   "execution_count": 7,
   "id": "1e01bddb",
   "metadata": {},
   "outputs": [
    {
     "data": {
      "application/vnd.microsoft.datawrangler.viewer.v0+json": {
       "columns": [
        {
         "name": "index",
         "rawType": "int64",
         "type": "integer"
        },
        {
         "name": "Item_ID",
         "rawType": "int64",
         "type": "integer"
        },
        {
         "name": "Item_Name",
         "rawType": "object",
         "type": "string"
        },
        {
         "name": "Item_Description",
         "rawType": "object",
         "type": "string"
        },
        {
         "name": "Price",
         "rawType": "float64",
         "type": "float"
        },
        {
         "name": "Weight (g)",
         "rawType": "int64",
         "type": "integer"
        },
        {
         "name": "Category",
         "rawType": "object",
         "type": "string"
        }
       ],
       "ref": "d8c53892-8e72-401c-9193-57564e7fe71a",
       "rows": [
        [
         "0",
         "1",
         "Zucchini",
         "Premium zucchini hand-picked.",
         "15.46",
         "2483",
         "Vegetables"
        ],
        [
         "1",
         "2",
         "Muffin",
         "Premium muffin no added sugar.",
         "13.04",
         "2196",
         "Bakery"
        ],
        [
         "2",
         "3",
         "Carrot",
         "Organic carrot no added sugar.",
         "5.4",
         "208",
         "Vegetables"
        ],
        [
         "3",
         "4",
         "Granola Bar",
         "Imported granola bar hand-picked.",
         "11.04",
         "2328",
         "Snacks"
        ],
        [
         "4",
         "5",
         "Orange",
         "Delicious orange packed with nutrients.",
         "3.75",
         "664",
         "Fruits"
        ],
        [
         "5",
         "6",
         "Lamb Chops",
         "Locally sourced lamb chops packed with nutrients.",
         "3.65",
         "1419",
         "Meat"
        ],
        [
         "6",
         "7",
         "Fruit Snacks",
         "Low-fat fruit snacks from local farms.",
         "5.39",
         "1453",
         "Snacks"
        ],
        [
         "7",
         "8",
         "Cottage Cheese",
         "Delicious cottage cheese packed with nutrients.",
         "10.87",
         "1948",
         "Dairy"
        ],
        [
         "8",
         "9",
         "Pear",
         "Imported pear with natural ingredients.",
         "8.72",
         "1193",
         "Fruits"
        ],
        [
         "9",
         "10",
         "Cucumber",
         "Organic cucumber with natural ingredients.",
         "6.59",
         "181",
         "Vegetables"
        ],
        [
         "10",
         "11",
         "Flour",
         "Low-fat flour from local farms.",
         "1.73",
         "1050",
         "Pantry"
        ],
        [
         "11",
         "12",
         "Mineral Water",
         "Low-fat mineral water packed with nutrients.",
         "9.17",
         "2585",
         "Beverages"
        ],
        [
         "12",
         "13",
         "Onion",
         "Low-fat onion with natural ingredients.",
         "2.45",
         "1659",
         "Vegetables"
        ],
        [
         "13",
         "14",
         "Pretzels",
         "Organic pretzels with natural ingredients.",
         "0.91",
         "1017",
         "Snacks"
        ],
        [
         "14",
         "15",
         "Roll",
         "Fresh roll with natural ingredients.",
         "17.19",
         "1316",
         "Bakery"
        ],
        [
         "15",
         "16",
         "Turkey",
         "Premium turkey packed with nutrients.",
         "7.58",
         "2272",
         "Meat"
        ],
        [
         "16",
         "17",
         "Carrot",
         "Organic carrot no added sugar.",
         "8.71",
         "2412",
         "Vegetables"
        ],
        [
         "17",
         "18",
         "Baguette",
         "Gluten-free baguette no added sugar.",
         "5.94",
         "1516",
         "Bakery"
        ],
        [
         "18",
         "19",
         "Cereal",
         "Locally sourced cereal hand-picked.",
         "17.9",
         "2529",
         "Pantry"
        ],
        [
         "19",
         "20",
         "Green Tea",
         "Organic green tea from local farms.",
         "9.01",
         "1884",
         "Beverages"
        ],
        [
         "20",
         "21",
         "Bagel",
         "Organic bagel no added sugar.",
         "5.21",
         "2408",
         "Bakery"
        ],
        [
         "21",
         "22",
         "Salt",
         "Organic salt packed with nutrients.",
         "10.89",
         "563",
         "Pantry"
        ],
        [
         "22",
         "23",
         "Sausage",
         "Low-fat sausage with natural ingredients.",
         "9.33",
         "1597",
         "Meat"
        ],
        [
         "23",
         "24",
         "Turkey",
         "Locally sourced turkey hand-picked.",
         "2.5",
         "1289",
         "Meat"
        ],
        [
         "24",
         "25",
         "Cottage Cheese",
         "Fresh cottage cheese hand-picked.",
         "18.26",
         "686",
         "Dairy"
        ],
        [
         "25",
         "26",
         "Pork Chops",
         "Delicious pork chops hand-picked.",
         "10.32",
         "2944",
         "Meat"
        ],
        [
         "26",
         "27",
         "Orange Juice",
         "Low-fat orange juice hand-picked.",
         "8.58",
         "2794",
         "Beverages"
        ],
        [
         "27",
         "28",
         "Frozen Berries",
         "Locally sourced frozen berries no added sugar.",
         "17.85",
         "2211",
         "Frozen"
        ],
        [
         "28",
         "29",
         "Cheese",
         "Premium cheese from local farms.",
         "17.8",
         "1291",
         "Dairy"
        ],
        [
         "29",
         "30",
         "Cream",
         "Delicious cream with natural ingredients.",
         "1.77",
         "1365",
         "Dairy"
        ],
        [
         "30",
         "31",
         "Sardines",
         "Fresh sardines packed with nutrients.",
         "14.87",
         "692",
         "Seafood"
        ],
        [
         "31",
         "32",
         "Lettuce",
         "Low-fat lettuce with natural ingredients.",
         "8.46",
         "367",
         "Vegetables"
        ],
        [
         "32",
         "33",
         "Frozen Corn",
         "Imported frozen corn with natural ingredients.",
         "4.7",
         "428",
         "Frozen"
        ],
        [
         "33",
         "34",
         "Beef Steak",
         "Gluten-free beef steak hand-picked.",
         "8.86",
         "1083",
         "Meat"
        ],
        [
         "34",
         "35",
         "Sour Cream",
         "Organic sour cream from local farms.",
         "5.95",
         "1952",
         "Dairy"
        ],
        [
         "35",
         "36",
         "Cod",
         "Premium cod no added sugar.",
         "7.1",
         "1664",
         "Seafood"
        ],
        [
         "36",
         "37",
         "Frozen Fries",
         "Sugar-free frozen fries from local farms.",
         "17.22",
         "2406",
         "Frozen"
        ],
        [
         "37",
         "38",
         "Frozen Fries",
         "Low-fat frozen fries hand-picked.",
         "4.76",
         "282",
         "Frozen"
        ],
        [
         "38",
         "39",
         "Sausage",
         "Premium sausage packed with nutrients.",
         "2.85",
         "2554",
         "Meat"
        ],
        [
         "39",
         "40",
         "Apple",
         "Locally sourced apple with natural ingredients.",
         "12.78",
         "2654",
         "Fruits"
        ],
        [
         "40",
         "41",
         "Donut",
         "Low-fat donut packed with nutrients.",
         "12.23",
         "1330",
         "Bakery"
        ],
        [
         "41",
         "42",
         "Rice",
         "Low-fat rice hand-picked.",
         "1.24",
         "2736",
         "Pantry"
        ],
        [
         "42",
         "43",
         "Spices",
         "Delicious spices hand-picked.",
         "14.53",
         "1779",
         "Pantry"
        ],
        [
         "43",
         "44",
         "Pretzels",
         "Low-fat pretzels packed with nutrients.",
         "15.26",
         "1133",
         "Snacks"
        ],
        [
         "44",
         "45",
         "Frozen Corn",
         "Organic frozen corn hand-picked.",
         "1.01",
         "389",
         "Frozen"
        ],
        [
         "45",
         "46",
         "Yogurt",
         "Low-fat yogurt with natural ingredients.",
         "1.08",
         "880",
         "Dairy"
        ],
        [
         "46",
         "47",
         "Lettuce",
         "Organic lettuce from local farms.",
         "12.8",
         "1861",
         "Vegetables"
        ],
        [
         "47",
         "48",
         "Ham",
         "Premium ham hand-picked.",
         "11.04",
         "1345",
         "Meat"
        ],
        [
         "48",
         "49",
         "Frozen Nuggets",
         "Sugar-free frozen nuggets no added sugar.",
         "10.19",
         "621",
         "Frozen"
        ],
        [
         "49",
         "50",
         "Orange Juice",
         "Fresh orange juice from local farms.",
         "19.01",
         "2167",
         "Beverages"
        ]
       ],
       "shape": {
        "columns": 6,
        "rows": 500
       }
      },
      "text/html": [
       "<div>\n",
       "<style scoped>\n",
       "    .dataframe tbody tr th:only-of-type {\n",
       "        vertical-align: middle;\n",
       "    }\n",
       "\n",
       "    .dataframe tbody tr th {\n",
       "        vertical-align: top;\n",
       "    }\n",
       "\n",
       "    .dataframe thead th {\n",
       "        text-align: right;\n",
       "    }\n",
       "</style>\n",
       "<table border=\"1\" class=\"dataframe\">\n",
       "  <thead>\n",
       "    <tr style=\"text-align: right;\">\n",
       "      <th></th>\n",
       "      <th>Item_ID</th>\n",
       "      <th>Item_Name</th>\n",
       "      <th>Item_Description</th>\n",
       "      <th>Price</th>\n",
       "      <th>Weight (g)</th>\n",
       "      <th>Category</th>\n",
       "    </tr>\n",
       "  </thead>\n",
       "  <tbody>\n",
       "    <tr>\n",
       "      <th>0</th>\n",
       "      <td>1</td>\n",
       "      <td>Zucchini</td>\n",
       "      <td>Premium zucchini hand-picked.</td>\n",
       "      <td>15.46</td>\n",
       "      <td>2483</td>\n",
       "      <td>Vegetables</td>\n",
       "    </tr>\n",
       "    <tr>\n",
       "      <th>1</th>\n",
       "      <td>2</td>\n",
       "      <td>Muffin</td>\n",
       "      <td>Premium muffin no added sugar.</td>\n",
       "      <td>13.04</td>\n",
       "      <td>2196</td>\n",
       "      <td>Bakery</td>\n",
       "    </tr>\n",
       "    <tr>\n",
       "      <th>2</th>\n",
       "      <td>3</td>\n",
       "      <td>Carrot</td>\n",
       "      <td>Organic carrot no added sugar.</td>\n",
       "      <td>5.40</td>\n",
       "      <td>208</td>\n",
       "      <td>Vegetables</td>\n",
       "    </tr>\n",
       "    <tr>\n",
       "      <th>3</th>\n",
       "      <td>4</td>\n",
       "      <td>Granola Bar</td>\n",
       "      <td>Imported granola bar hand-picked.</td>\n",
       "      <td>11.04</td>\n",
       "      <td>2328</td>\n",
       "      <td>Snacks</td>\n",
       "    </tr>\n",
       "    <tr>\n",
       "      <th>4</th>\n",
       "      <td>5</td>\n",
       "      <td>Orange</td>\n",
       "      <td>Delicious orange packed with nutrients.</td>\n",
       "      <td>3.75</td>\n",
       "      <td>664</td>\n",
       "      <td>Fruits</td>\n",
       "    </tr>\n",
       "    <tr>\n",
       "      <th>...</th>\n",
       "      <td>...</td>\n",
       "      <td>...</td>\n",
       "      <td>...</td>\n",
       "      <td>...</td>\n",
       "      <td>...</td>\n",
       "      <td>...</td>\n",
       "    </tr>\n",
       "    <tr>\n",
       "      <th>495</th>\n",
       "      <td>496</td>\n",
       "      <td>Garlic</td>\n",
       "      <td>Premium garlic from local farms.</td>\n",
       "      <td>11.77</td>\n",
       "      <td>2599</td>\n",
       "      <td>Vegetables</td>\n",
       "    </tr>\n",
       "    <tr>\n",
       "      <th>496</th>\n",
       "      <td>497</td>\n",
       "      <td>Frozen Berries</td>\n",
       "      <td>Delicious frozen berries from local farms.</td>\n",
       "      <td>2.12</td>\n",
       "      <td>2622</td>\n",
       "      <td>Frozen</td>\n",
       "    </tr>\n",
       "    <tr>\n",
       "      <th>497</th>\n",
       "      <td>498</td>\n",
       "      <td>Frozen Pizza</td>\n",
       "      <td>Low-fat frozen pizza with natural ingredients.</td>\n",
       "      <td>3.22</td>\n",
       "      <td>2043</td>\n",
       "      <td>Frozen</td>\n",
       "    </tr>\n",
       "    <tr>\n",
       "      <th>498</th>\n",
       "      <td>499</td>\n",
       "      <td>Banana</td>\n",
       "      <td>Gluten-free banana no added sugar.</td>\n",
       "      <td>13.46</td>\n",
       "      <td>1920</td>\n",
       "      <td>Fruits</td>\n",
       "    </tr>\n",
       "    <tr>\n",
       "      <th>499</th>\n",
       "      <td>500</td>\n",
       "      <td>Energy Drink</td>\n",
       "      <td>Fresh energy drink no added sugar.</td>\n",
       "      <td>9.77</td>\n",
       "      <td>1579</td>\n",
       "      <td>Beverages</td>\n",
       "    </tr>\n",
       "  </tbody>\n",
       "</table>\n",
       "<p>500 rows × 6 columns</p>\n",
       "</div>"
      ],
      "text/plain": [
       "     Item_ID       Item_Name                                Item_Description  \\\n",
       "0          1        Zucchini                   Premium zucchini hand-picked.   \n",
       "1          2          Muffin                  Premium muffin no added sugar.   \n",
       "2          3          Carrot                  Organic carrot no added sugar.   \n",
       "3          4     Granola Bar               Imported granola bar hand-picked.   \n",
       "4          5          Orange         Delicious orange packed with nutrients.   \n",
       "..       ...             ...                                             ...   \n",
       "495      496          Garlic                Premium garlic from local farms.   \n",
       "496      497  Frozen Berries      Delicious frozen berries from local farms.   \n",
       "497      498    Frozen Pizza  Low-fat frozen pizza with natural ingredients.   \n",
       "498      499          Banana              Gluten-free banana no added sugar.   \n",
       "499      500    Energy Drink              Fresh energy drink no added sugar.   \n",
       "\n",
       "     Price  Weight (g)    Category  \n",
       "0    15.46        2483  Vegetables  \n",
       "1    13.04        2196      Bakery  \n",
       "2     5.40         208  Vegetables  \n",
       "3    11.04        2328      Snacks  \n",
       "4     3.75         664      Fruits  \n",
       "..     ...         ...         ...  \n",
       "495  11.77        2599  Vegetables  \n",
       "496   2.12        2622      Frozen  \n",
       "497   3.22        2043      Frozen  \n",
       "498  13.46        1920      Fruits  \n",
       "499   9.77        1579   Beverages  \n",
       "\n",
       "[500 rows x 6 columns]"
      ]
     },
     "execution_count": 7,
     "metadata": {},
     "output_type": "execute_result"
    }
   ],
   "source": [
    "df"
   ]
  },
  {
   "cell_type": "code",
   "execution_count": 8,
   "id": "c0ba3d0c",
   "metadata": {},
   "outputs": [],
   "source": [
    "import matplotlib.pyplot as plt\n",
    "import seaborn as sns"
   ]
  },
  {
   "cell_type": "code",
   "execution_count": 9,
   "id": "1c9c5989",
   "metadata": {},
   "outputs": [
    {
     "name": "stderr",
     "output_type": "stream",
     "text": [
      "C:\\Users\\Manuel\\AppData\\Local\\Temp\\ipykernel_34396\\1216101316.py:3: FutureWarning: \n",
      "\n",
      "Passing `palette` without assigning `hue` is deprecated and will be removed in v0.14.0. Assign the `x` variable to `hue` and set `legend=False` for the same effect.\n",
      "\n",
      "  ax = sns.countplot(x=\"Category\", data=df, palette=\"Set2\")\n"
     ]
    },
    {
     "data": {
      "image/png": "[encoded data removed]",
      "text/plain": [
       "<Figure size 1200x600 with 1 Axes>"
      ]
     },
     "metadata": {},
     "output_type": "display_data"
    }
   ],
   "source": [
    "fig, ax = plt.subplots(figsize=(12, 6))\n",
    "# Plot count by category with different color\n",
    "ax = sns.countplot(x=\"Category\", data=df, palette=\"Set2\")\n",
    "ax.set_title(\"Count by Category\")\n",
    "ax.set_xlabel(\"Category\")\n",
    "ax.set_ylabel(\"Count\")\n",
    "\n",
    "for p in ax.patches:\n",
    "    height = p.get_height()\n",
    "    ax.text(p.get_x() + p.get_width() / 2., height / 2, '{:1.0f}'.format(height), ha=\"center\")"
   ]
  },
  {
   "cell_type": "code",
   "execution_count": 10,
   "id": "c723ec32",
   "metadata": {},
   "outputs": [
    {
     "name": "stderr",
     "output_type": "stream",
     "text": [
      "c:\\Users\\Manuel\\.conda\\envs\\hugging_face_ai_agents_course\\Lib\\site-packages\\tqdm\\auto.py:21: TqdmWarning: IProgress not found. Please update jupyter and ipywidgets. See https://ipywidgets.readthedocs.io/en/stable/user_install.html\n",
      "  from .autonotebook import tqdm as notebook_tqdm\n",
      "c:\\Users\\Manuel\\.conda\\envs\\hugging_face_ai_agents_course\\Lib\\site-packages\\huggingface_hub\\file_download.py:143: UserWarning: `huggingface_hub` cache-system uses symlinks by default to efficiently store duplicated files but your machine does not support them in C:\\Users\\Manuel\\.cache\\huggingface\\hub\\models--sentence-transformers--all-MiniLM-L6-v2. Caching files will still work but in a degraded version that might require more space on your disk. This warning can be disabled by setting the `HF_HUB_DISABLE_SYMLINKS_WARNING` environment variable. For more details, see https://huggingface.co/docs/huggingface_hub/how-to-cache#limitations.\n",
      "To support symlinks on Windows, you either need to activate Developer Mode or to run Python as an administrator. In order to activate developer mode, see this article: https://docs.microsoft.com/en-us/windows/apps/get-started/enable-your-device-for-development\n",
      "  warnings.warn(message)\n",
      "Xet Storage is enabled for this repo, but the 'hf_xet' package is not installed. Falling back to regular HTTP download. For better performance, install the package with: `pip install huggingface_hub[hf_xet]` or `pip install hf_xet`\n"
     ]
    }
   ],
   "source": [
    "from sentence_transformers import SentenceTransformer\n",
    "\n",
    "model = SentenceTransformer('all-MiniLM-L6-v2')\n",
    "item_embeddings = model.encode(df[\"Item_Name\"].tolist())"
   ]
  },
  {
   "cell_type": "code",
   "execution_count": 12,
   "id": "87cf1c74",
   "metadata": {},
   "outputs": [
    {
     "data": {
      "text/plain": [
       "(500, 384)"
      ]
     },
     "execution_count": 12,
     "metadata": {},
     "output_type": "execute_result"
    }
   ],
   "source": [
    "item_embeddings.shape"
   ]
  },
  {
   "cell_type": "code",
   "execution_count": null,
   "id": "51db90b9",
   "metadata": {},
   "outputs": [],
   "source": [
    "# Reducing dimensionality using t-SNE\n",
    "from sklearn.manifold import TSNE\n",
    "item_embeddings_2d = TSNE(n_components=2).fit_transform(item_embeddings)"
   ]
  },
  {
   "cell_type": "code",
   "execution_count": 21,
   "id": "eb41a192",
   "metadata": {},
   "outputs": [],
   "source": [
    "import hashlib\n",
    "def map_string_to_color(string: str) -> str:\n",
    "    return \"#\" + hashlib.md5(string.encode(\"utf-8\")).hexdigest()[:6]"
   ]
  },
  {
   "cell_type": "code",
   "execution_count": null,
   "id": "8f7ea885",
   "metadata": {},
   "outputs": [
    {
     "data": {
      "text/plain": [
       "Text(0, 0.5, 'Principal Component 2')"
      ]
     },
     "execution_count": 23,
     "metadata": {},
     "output_type": "execute_result"
    },
    {
     "data": {
      "image/png": "[encoded data removed]",
      "text/plain": [
       "<Figure size 1200x600 with 1 Axes>"
      ]
     },
     "metadata": {},
     "output_type": "display_data"
    }
   ],
   "source": [
    "# Scatter plot of embeddings\n",
    "fig, ax = plt.subplots(figsize=(12, 6))\n",
    "ax.scatter(item_embeddings_2d[:, 0], item_embeddings_2d[:, 1], c=df[\"Category\"].apply(map_string_to_color))\n",
    "ax.set_title(\"Grocery items embeddings in 2D space\")\n",
    "ax.set_xlabel(\"Principal Component 1\")\n",
    "ax.set_ylabel(\"Principal Component 2\")"
   ]
  },
  {
   "cell_type": "code",
   "execution_count": null,
   "id": "b77ca837",
   "metadata": {},
   "outputs": [],
   "source": []
  }
 ],
 "metadata": {
  "kernelspec": {
   "display_name": "hugging_face_ai_agents_course",
   "language": "python",
   "name": "python3"
  },
  "language_info": {
   "codemirror_mode": {
    "name": "ipython",
    "version": 3
   },
   "file_extension": ".py",
   "mimetype": "text/x-python",
   "name": "python",
   "nbconvert_exporter": "python",
   "pygments_lexer": "ipython3",
   "version": "3.13.5"
  }
 },
 "nbformat": 4,
 "nbformat_minor": 5
}
