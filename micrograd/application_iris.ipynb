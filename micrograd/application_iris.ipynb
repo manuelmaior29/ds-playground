{
 "cells": [
  {
   "cell_type": "code",
   "execution_count": null,
   "metadata": {},
   "outputs": [],
   "source": [
    "from sklearn import datasets\n",
    "from sklearn.decomposition import PCA"
   ]
  },
  {
   "cell_type": "markdown",
   "metadata": {},
   "source": [
    "#### Dataset loading"
   ]
  },
  {
   "cell_type": "code",
   "execution_count": null,
   "metadata": {},
   "outputs": [],
   "source": [
    "iris = datasets.load_iris()\n",
    "X = iris.data\n",
    "y = iris.target"
   ]
  },
  {
   "cell_type": "code",
   "execution_count": null,
   "metadata": {},
   "outputs": [],
   "source": [
    "from sklearn.model_selection import train_test_split\n",
    "X_train, X_test, y_train, y_test = train_test_split(X, y, test_size=0.2, random_state=1)"
   ]
  },
  {
   "cell_type": "markdown",
   "metadata": {},
   "source": [
    "#### Dataset sample visualization"
   ]
  },
  {
   "cell_type": "code",
   "execution_count": null,
   "metadata": {},
   "outputs": [],
   "source": [
    "import matplotlib.pyplot as plt\n",
    "import pandas as pd\n",
    "\n",
    "def plot_3d_graph(X):\n",
    "    ax = plt.figure(figsize=(16, 12)).add_subplot(projection='3d')\n",
    "    ax.scatter(xs=X[:, 0], ys=X[:, 1], zs=X[:, 2], zdir='y', label='Iris samples')\n",
    "    ax.legend()\n",
    "    ax.set_xlim(-10, 10)\n",
    "    ax.set_ylim(-10, 10)\n",
    "    ax.set_zlim(-10, 10)\n",
    "    ax.set_xlabel(iris['feature_names'][0])\n",
    "    ax.set_ylabel(iris['feature_names'][1])\n",
    "    ax.set_zlabel(iris['feature_names'][2])\n",
    "    plt.show()"
   ]
  },
  {
   "cell_type": "code",
   "execution_count": null,
   "metadata": {},
   "outputs": [],
   "source": [
    "plot_3d_graph(X_train)"
   ]
  },
  {
   "cell_type": "code",
   "execution_count": null,
   "metadata": {},
   "outputs": [],
   "source": [
    "import numpy as np\n",
    "\n",
    "number_of_examples = 10\n",
    "Xy_samples = np.concatenate((X_train[:number_of_examples, :], np.expand_dims([yex for yex in y_train[:number_of_examples]], axis=1)), axis=1)\n",
    "iris_df = pd.DataFrame(Xy_samples[:number_of_examples, :])\n",
    "iris_df.columns = iris['feature_names'] + [\"type\"]\n",
    "iris_df"
   ]
  },
  {
   "cell_type": "markdown",
   "metadata": {},
   "source": [
    "#### Data preprocessing"
   ]
  },
  {
   "cell_type": "code",
   "execution_count": null,
   "metadata": {},
   "outputs": [],
   "source": [
    "from sys import float_info\n",
    "from sklearn.preprocessing import StandardScaler\n",
    "\n",
    "scaler = StandardScaler()\n",
    "X_train_scaled = scaler.fit_transform(X_train)\n",
    "X_test_scaled = scaler.transform(X_test)\n",
    "Xy_samples = np.concatenate((X_train_scaled[:number_of_examples, :], np.expand_dims([yex for yex in y_train[:number_of_examples]], axis=1)), axis=1)\n",
    "\n",
    "iris_df = pd.DataFrame(Xy_samples[:number_of_examples, :])\n",
    "iris_df.columns = iris['feature_names'] + [\"type\"]\n",
    "iris_df"
   ]
  },
  {
   "cell_type": "code",
   "execution_count": null,
   "metadata": {},
   "outputs": [],
   "source": [
    "from sklearn.preprocessing import LabelEncoder, OneHotEncoder\n",
    "\n",
    "label_encoder = LabelEncoder()\n",
    "y_train_encoded = label_encoder.fit_transform(y_train)\n",
    "y_test_encoded = label_encoder.transform(y_test)\n",
    "\n",
    "onehot_encoder = OneHotEncoder(sparse=False)\n",
    "y_train_encoded = onehot_encoder.fit_transform(y_train_encoded.reshape(-1, 1))\n",
    "y_test_encoded = onehot_encoder.transform(y_test_encoded.reshape(-1, 1))"
   ]
  },
  {
   "cell_type": "code",
   "execution_count": null,
   "metadata": {},
   "outputs": [],
   "source": [
    "plot_3d_graph(X_train_scaled)"
   ]
  },
  {
   "cell_type": "markdown",
   "metadata": {},
   "source": [
    "#### Training MLP"
   ]
  },
  {
   "cell_type": "code",
   "execution_count": 164,
   "metadata": {},
   "outputs": [
    {
     "name": "stdout",
     "output_type": "stream",
     "text": [
      "[4, 4, 4, 3]\n"
     ]
    },
    {
     "ename": "TypeError",
     "evalue": "loop of ufunc does not support argument 0 of type Value which has no callable log method",
     "output_type": "error",
     "traceback": [
      "\u001b[1;31m---------------------------------------------------------------------------\u001b[0m",
      "\u001b[1;31mAttributeError\u001b[0m                            Traceback (most recent call last)",
      "\u001b[1;31mAttributeError\u001b[0m: 'Value' object has no attribute 'log'",
      "\nThe above exception was the direct cause of the following exception:\n",
      "\u001b[1;31mTypeError\u001b[0m                                 Traceback (most recent call last)",
      "\u001b[1;32mc:\\Users\\Manuel\\Projects\\GitHub_Repositories\\learning-ml\\micrograd\\application_iris.ipynb Cell 14\u001b[0m in \u001b[0;36m<cell line: 5>\u001b[1;34m()\u001b[0m\n\u001b[0;32m      <a href='vscode-notebook-cell:/c%3A/Users/Manuel/Projects/GitHub_Repositories/learning-ml/micrograd/application_iris.ipynb#X22sZmlsZQ%3D%3D?line=4'>5</a>\u001b[0m \u001b[39mfor\u001b[39;00m epoch \u001b[39min\u001b[39;00m \u001b[39mrange\u001b[39m(epochs):\n\u001b[0;32m      <a href='vscode-notebook-cell:/c%3A/Users/Manuel/Projects/GitHub_Repositories/learning-ml/micrograd/application_iris.ipynb#X22sZmlsZQ%3D%3D?line=5'>6</a>\u001b[0m     \u001b[39m# forward pass\u001b[39;00m\n\u001b[0;32m      <a href='vscode-notebook-cell:/c%3A/Users/Manuel/Projects/GitHub_Repositories/learning-ml/micrograd/application_iris.ipynb#X22sZmlsZQ%3D%3D?line=6'>7</a>\u001b[0m     y_preds \u001b[39m=\u001b[39m [model(x) \u001b[39mfor\u001b[39;00m x \u001b[39min\u001b[39;00m X_train_scaled]\n\u001b[1;32m----> <a href='vscode-notebook-cell:/c%3A/Users/Manuel/Projects/GitHub_Repositories/learning-ml/micrograd/application_iris.ipynb#X22sZmlsZQ%3D%3D?line=7'>8</a>\u001b[0m     loss \u001b[39m=\u001b[39m \u001b[39m-\u001b[39mnp\u001b[39m.\u001b[39msum(y_train_encoded \u001b[39m*\u001b[39m np\u001b[39m.\u001b[39;49mlog(y_preds))\n\u001b[0;32m      <a href='vscode-notebook-cell:/c%3A/Users/Manuel/Projects/GitHub_Repositories/learning-ml/micrograd/application_iris.ipynb#X22sZmlsZQ%3D%3D?line=8'>9</a>\u001b[0m     losses\u001b[39m.\u001b[39mappend(loss)\n\u001b[0;32m     <a href='vscode-notebook-cell:/c%3A/Users/Manuel/Projects/GitHub_Repositories/learning-ml/micrograd/application_iris.ipynb#X22sZmlsZQ%3D%3D?line=10'>11</a>\u001b[0m     \u001b[39m# backward pass\u001b[39;00m\n",
      "\u001b[1;31mTypeError\u001b[0m: loop of ufunc does not support argument 0 of type Value which has no callable log method"
     ]
    }
   ],
   "source": [
    "import nn\n",
    "model = nn.MLP(nin=X_train_scaled.shape[1], nouts=[4, 4, len(iris.target_names)])\n",
    "epochs = 1\n",
    "losses = []\n",
    "for epoch in range(epochs):\n",
    "    # forward pass\n",
    "    y_preds = [model(x) for x in X_train_scaled]\n",
    "    loss = -np.sum(y_train_encoded * np.log(y_preds))\n",
    "    losses.append(loss)\n",
    "    \n",
    "    # backward pass\n",
    "    for p in model.parameters():\n",
    "        p.grad = 0.0\n",
    "    loss.backward()\n",
    "\n",
    "    # optimization\n",
    "    for p in model.parameters():\n",
    "        p.data += -1e-2 * p.grad\n",
    "\n",
    "# X_train_scaled[:4, :].tolist()"
   ]
  }
 ],
 "metadata": {
  "kernelspec": {
   "display_name": "base",
   "language": "python",
   "name": "python3"
  },
  "language_info": {
   "codemirror_mode": {
    "name": "ipython",
    "version": 3
   },
   "file_extension": ".py",
   "mimetype": "text/x-python",
   "name": "python",
   "nbconvert_exporter": "python",
   "pygments_lexer": "ipython3",
   "version": "3.8.12"
  },
  "orig_nbformat": 4
 },
 "nbformat": 4,
 "nbformat_minor": 2
}
