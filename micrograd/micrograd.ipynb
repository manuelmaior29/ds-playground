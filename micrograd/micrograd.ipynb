{
 "cells": [
  {
   "cell_type": "code",
   "execution_count": 93,
   "metadata": {},
   "outputs": [],
   "source": [
    "import math\n",
    "import numpy as np\n",
    "import matplotlib.pyplot as plt\n",
    "%matplotlib inline"
   ]
  },
  {
   "cell_type": "code",
   "execution_count": 94,
   "metadata": {},
   "outputs": [],
   "source": [
    "def f(x):\n",
    "    return 3*x**2 - 4*x + 5"
   ]
  },
  {
   "cell_type": "code",
   "execution_count": 95,
   "metadata": {},
   "outputs": [
    {
     "data": {
      "text/plain": [
       "20.0"
      ]
     },
     "execution_count": 95,
     "metadata": {},
     "output_type": "execute_result"
    }
   ],
   "source": [
    "f(3.0)"
   ]
  },
  {
   "cell_type": "code",
   "execution_count": 96,
   "metadata": {},
   "outputs": [
    {
     "data": {
      "text/plain": [
       "[<matplotlib.lines.Line2D at 0x28aff6406d0>]"
      ]
     },
     "execution_count": 96,
     "metadata": {},
     "output_type": "execute_result"
    },
    {
     "data": {
      "image/png": "[encoded data removed]",
      "text/plain": [
       "<Figure size 432x288 with 1 Axes>"
      ]
     },
     "metadata": {
      "needs_background": "light"
     },
     "output_type": "display_data"
    }
   ],
   "source": [
    "xs = np.arange(-5, 5, 0.25)\n",
    "xs\n",
    "ys = f(xs)\n",
    "ys\n",
    "plt.plot(xs, ys)"
   ]
  },
  {
   "cell_type": "code",
   "execution_count": 97,
   "metadata": {},
   "outputs": [
    {
     "data": {
      "text/plain": [
       "14.00300000000243"
      ]
     },
     "execution_count": 97,
     "metadata": {},
     "output_type": "execute_result"
    }
   ],
   "source": [
    "h = 0.001\n",
    "x = 3.0\n",
    "(f(x + h) - f(x)) / h"
   ]
  },
  {
   "cell_type": "code",
   "execution_count": 98,
   "metadata": {},
   "outputs": [
    {
     "name": "stdout",
     "output_type": "stream",
     "text": [
      "4.0\n"
     ]
    }
   ],
   "source": [
    "a = 2.0\n",
    "b = -3.0\n",
    "c = 10.0\n",
    "d = a * b + c\n",
    "print(d)"
   ]
  },
  {
   "cell_type": "code",
   "execution_count": 99,
   "metadata": {},
   "outputs": [
    {
     "name": "stdout",
     "output_type": "stream",
     "text": [
      "d1 4.0\n",
      "d2 3.999699999999999\n",
      "slope -3.000000000010772\n"
     ]
    }
   ],
   "source": [
    "h = 0.0001\n",
    "\n",
    "a = 2.0\n",
    "b = -3.0\n",
    "c = 10.0\n",
    "\n",
    "d1 = a * b + c\n",
    "a += h\n",
    "d2 = a * b + c\n",
    "\n",
    "\n",
    "print('d1', d1)\n",
    "print('d2', d2)\n",
    "print('slope', (d2 - d1) / h)"
   ]
  },
  {
   "cell_type": "code",
   "execution_count": 100,
   "metadata": {},
   "outputs": [],
   "source": [
    "from graphviz import Digraph\n",
    "\n",
    "def trace(root):\n",
    "    nodes, edges = set(), set()\n",
    "    def build(v):\n",
    "        if v not in nodes:\n",
    "            nodes.add(v)\n",
    "            for child in v._prev:\n",
    "                edges.add((child, v))\n",
    "                build(child)\n",
    "    build(root)\n",
    "    return nodes, edges\n",
    "\n",
    "def draw_dot(root):\n",
    "    dot = Digraph(format='svg', graph_attr={'rankdir': 'LR'})\n",
    "    nodes, edges = trace(root)\n",
    "    for n in nodes:\n",
    "        uid = str(id(n))\n",
    "        dot.node(name = uid, label = \"{ %s | data %.4f | grad %.4f }\" % (n.label, n.data, n.grad), shape=\"record\")\n",
    "        if n._op:\n",
    "            dot.node(name = uid + n._op, label = n._op)\n",
    "            dot.edge(uid + n._op, uid)\n",
    "            \n",
    "    for n1, n2 in edges:\n",
    "        dot.edge(str(id(n1)), str(id(n2)) + n2._op)\n",
    "        \n",
    "    return dot"
   ]
  },
  {
   "cell_type": "code",
   "execution_count": 101,
   "metadata": {},
   "outputs": [
    {
     "data": {
      "image/svg+xml": [
       "<?xml version=\"1.0\" encoding=\"UTF-8\" standalone=\"no\"?>\n",
       "<!DOCTYPE svg PUBLIC \"-//W3C//DTD SVG 1.1//EN\"\n",
       " \"http://www.w3.org/Graphics/SVG/1.1/DTD/svg11.dtd\">\n",
       "<!-- Generated by graphviz version 8.1.0 (20230707.0739)\n",
       " -->\n",
       "<!-- Pages: 1 -->\n",
       "<svg width=\"1147pt\" height=\"154pt\"\n",
       " viewBox=\"0.00 0.00 1147.25 154.00\" xmlns=\"http://www.w3.org/2000/svg\" xmlns:xlink=\"http://www.w3.org/1999/xlink\">\n",
       "<g id=\"graph0\" class=\"graph\" transform=\"scale(1 1) rotate(0) translate(4 150)\">\n",
       "<polygon fill=\"white\" stroke=\"none\" points=\"-4,4 -4,-150 1143.25,-150 1143.25,4 -4,4\"/>\n",
       "<!-- 2796013646368 -->\n",
       "<g id=\"node1\" class=\"node\">\n",
       "<title>2796013646368</title>\n",
       "<polygon fill=\"none\" stroke=\"black\" points=\"634.5,-109.5 634.5,-145.5 822,-145.5 822,-109.5 634.5,-109.5\"/>\n",
       "<text text-anchor=\"middle\" x=\"644.75\" y=\"-122.2\" font-family=\"Times New Roman,serif\" font-size=\"14.00\">f</text>\n",
       "<polyline fill=\"none\" stroke=\"black\" points=\"655,-109.75 655,-145.5\"/>\n",
       "<text text-anchor=\"middle\" x=\"697.5\" y=\"-122.2\" font-family=\"Times New Roman,serif\" font-size=\"14.00\">data &#45;2.0000</text>\n",
       "<polyline fill=\"none\" stroke=\"black\" points=\"740,-109.75 740,-145.5\"/>\n",
       "<text text-anchor=\"middle\" x=\"781\" y=\"-122.2\" font-family=\"Times New Roman,serif\" font-size=\"14.00\">grad 0.0000</text>\n",
       "</g>\n",
       "<!-- 2796013646224* -->\n",
       "<g id=\"node10\" class=\"node\">\n",
       "<title>2796013646224*</title>\n",
       "<ellipse fill=\"none\" stroke=\"black\" cx=\"885\" cy=\"-99.5\" rx=\"27\" ry=\"18\"/>\n",
       "<text text-anchor=\"middle\" x=\"885\" y=\"-94.08\" font-family=\"Times New Roman,serif\" font-size=\"14.00\">*</text>\n",
       "</g>\n",
       "<!-- 2796013646368&#45;&gt;2796013646224* -->\n",
       "<g id=\"edge4\" class=\"edge\">\n",
       "<title>2796013646368&#45;&gt;2796013646224*</title>\n",
       "<path fill=\"none\" stroke=\"black\" d=\"M821.95,-110.73C831.05,-109.08 839.85,-107.49 847.83,-106.04\"/>\n",
       "<polygon fill=\"black\" stroke=\"black\" points=\"848.29,-109.34 857.51,-104.11 847.05,-102.45 848.29,-109.34\"/>\n",
       "</g>\n",
       "<!-- 2796011568672 -->\n",
       "<g id=\"node2\" class=\"node\">\n",
       "<title>2796011568672</title>\n",
       "<polygon fill=\"none\" stroke=\"black\" points=\"316.5,-82.5 316.5,-118.5 508.5,-118.5 508.5,-82.5 316.5,-82.5\"/>\n",
       "<text text-anchor=\"middle\" x=\"327.88\" y=\"-95.2\" font-family=\"Times New Roman,serif\" font-size=\"14.00\">c</text>\n",
       "<polyline fill=\"none\" stroke=\"black\" points=\"339.25,-82.75 339.25,-118.5\"/>\n",
       "<text text-anchor=\"middle\" x=\"382.88\" y=\"-95.2\" font-family=\"Times New Roman,serif\" font-size=\"14.00\">data 10.0000</text>\n",
       "<polyline fill=\"none\" stroke=\"black\" points=\"426.5,-82.75 426.5,-118.5\"/>\n",
       "<text text-anchor=\"middle\" x=\"467.5\" y=\"-95.2\" font-family=\"Times New Roman,serif\" font-size=\"14.00\">grad 0.0000</text>\n",
       "</g>\n",
       "<!-- 2796013649728+ -->\n",
       "<g id=\"node8\" class=\"node\">\n",
       "<title>2796013649728+</title>\n",
       "<ellipse fill=\"none\" stroke=\"black\" cx=\"571.5\" cy=\"-72.5\" rx=\"27\" ry=\"18\"/>\n",
       "<text text-anchor=\"middle\" x=\"571.5\" y=\"-67.08\" font-family=\"Times New Roman,serif\" font-size=\"14.00\">+</text>\n",
       "</g>\n",
       "<!-- 2796011568672&#45;&gt;2796013649728+ -->\n",
       "<g id=\"edge9\" class=\"edge\">\n",
       "<title>2796011568672&#45;&gt;2796013649728+</title>\n",
       "<path fill=\"none\" stroke=\"black\" d=\"M508.45,-83.57C517.58,-81.94 526.4,-80.37 534.38,-78.94\"/>\n",
       "<polygon fill=\"black\" stroke=\"black\" points=\"534.83,-82.24 544.06,-77.04 533.6,-75.35 534.83,-82.24\"/>\n",
       "</g>\n",
       "<!-- 2796010477600 -->\n",
       "<g id=\"node3\" class=\"node\">\n",
       "<title>2796010477600</title>\n",
       "<polygon fill=\"none\" stroke=\"black\" points=\"3,-55.5 3,-91.5 187.5,-91.5 187.5,-55.5 3,-55.5\"/>\n",
       "<text text-anchor=\"middle\" x=\"14\" y=\"-68.2\" font-family=\"Times New Roman,serif\" font-size=\"14.00\">a</text>\n",
       "<polyline fill=\"none\" stroke=\"black\" points=\"25,-55.75 25,-91.5\"/>\n",
       "<text text-anchor=\"middle\" x=\"65.25\" y=\"-68.2\" font-family=\"Times New Roman,serif\" font-size=\"14.00\">data 2.0000</text>\n",
       "<polyline fill=\"none\" stroke=\"black\" points=\"105.5,-55.75 105.5,-91.5\"/>\n",
       "<text text-anchor=\"middle\" x=\"146.5\" y=\"-68.2\" font-family=\"Times New Roman,serif\" font-size=\"14.00\">grad 0.0000</text>\n",
       "</g>\n",
       "<!-- 2796013646032* -->\n",
       "<g id=\"node6\" class=\"node\">\n",
       "<title>2796013646032*</title>\n",
       "<ellipse fill=\"none\" stroke=\"black\" cx=\"253.5\" cy=\"-45.5\" rx=\"27\" ry=\"18\"/>\n",
       "<text text-anchor=\"middle\" x=\"253.5\" y=\"-40.08\" font-family=\"Times New Roman,serif\" font-size=\"14.00\">*</text>\n",
       "</g>\n",
       "<!-- 2796010477600&#45;&gt;2796013646032* -->\n",
       "<g id=\"edge6\" class=\"edge\">\n",
       "<title>2796010477600&#45;&gt;2796013646032*</title>\n",
       "<path fill=\"none\" stroke=\"black\" d=\"M187.14,-57.21C197.43,-55.37 207.42,-53.58 216.36,-51.98\"/>\n",
       "<polygon fill=\"black\" stroke=\"black\" points=\"216.85,-55.27 226.08,-50.06 215.61,-48.37 216.85,-55.27\"/>\n",
       "</g>\n",
       "<!-- 2796012626464 -->\n",
       "<g id=\"node4\" class=\"node\">\n",
       "<title>2796012626464</title>\n",
       "<polygon fill=\"none\" stroke=\"black\" points=\"0,-0.5 0,-36.5 190.5,-36.5 190.5,-0.5 0,-0.5\"/>\n",
       "<text text-anchor=\"middle\" x=\"11.75\" y=\"-13.2\" font-family=\"Times New Roman,serif\" font-size=\"14.00\">b</text>\n",
       "<polyline fill=\"none\" stroke=\"black\" points=\"23.5,-0.75 23.5,-36.5\"/>\n",
       "<text text-anchor=\"middle\" x=\"66\" y=\"-13.2\" font-family=\"Times New Roman,serif\" font-size=\"14.00\">data &#45;3.0000</text>\n",
       "<polyline fill=\"none\" stroke=\"black\" points=\"108.5,-0.75 108.5,-36.5\"/>\n",
       "<text text-anchor=\"middle\" x=\"149.5\" y=\"-13.2\" font-family=\"Times New Roman,serif\" font-size=\"14.00\">grad 0.0000</text>\n",
       "</g>\n",
       "<!-- 2796012626464&#45;&gt;2796013646032* -->\n",
       "<g id=\"edge5\" class=\"edge\">\n",
       "<title>2796012626464&#45;&gt;2796013646032*</title>\n",
       "<path fill=\"none\" stroke=\"black\" d=\"M190.3,-34.75C199.43,-36.33 208.27,-37.86 216.27,-39.24\"/>\n",
       "<polygon fill=\"black\" stroke=\"black\" points=\"215.52,-42.83 225.97,-41.09 216.71,-35.94 215.52,-42.83\"/>\n",
       "</g>\n",
       "<!-- 2796013646032 -->\n",
       "<g id=\"node5\" class=\"node\">\n",
       "<title>2796013646032</title>\n",
       "<polygon fill=\"none\" stroke=\"black\" points=\"318,-27.5 318,-63.5 507,-63.5 507,-27.5 318,-27.5\"/>\n",
       "<text text-anchor=\"middle\" x=\"329\" y=\"-40.2\" font-family=\"Times New Roman,serif\" font-size=\"14.00\">e</text>\n",
       "<polyline fill=\"none\" stroke=\"black\" points=\"340,-27.75 340,-63.5\"/>\n",
       "<text text-anchor=\"middle\" x=\"382.5\" y=\"-40.2\" font-family=\"Times New Roman,serif\" font-size=\"14.00\">data &#45;6.0000</text>\n",
       "<polyline fill=\"none\" stroke=\"black\" points=\"425,-27.75 425,-63.5\"/>\n",
       "<text text-anchor=\"middle\" x=\"466\" y=\"-40.2\" font-family=\"Times New Roman,serif\" font-size=\"14.00\">grad 0.0000</text>\n",
       "</g>\n",
       "<!-- 2796013646032&#45;&gt;2796013649728+ -->\n",
       "<g id=\"edge7\" class=\"edge\">\n",
       "<title>2796013646032&#45;&gt;2796013649728+</title>\n",
       "<path fill=\"none\" stroke=\"black\" d=\"M506.64,-61.52C516.38,-63.19 525.8,-64.81 534.28,-66.27\"/>\n",
       "<polygon fill=\"black\" stroke=\"black\" points=\"533.39,-69.84 543.84,-68.09 534.58,-62.94 533.39,-69.84\"/>\n",
       "</g>\n",
       "<!-- 2796013646032*&#45;&gt;2796013646032 -->\n",
       "<g id=\"edge1\" class=\"edge\">\n",
       "<title>2796013646032*&#45;&gt;2796013646032</title>\n",
       "<path fill=\"none\" stroke=\"black\" d=\"M280.78,-45.5C288.52,-45.5 297.49,-45.5 307.05,-45.5\"/>\n",
       "<polygon fill=\"black\" stroke=\"black\" points=\"307.04,-49 317.04,-45.5 307.04,-42 307.04,-49\"/>\n",
       "</g>\n",
       "<!-- 2796013649728 -->\n",
       "<g id=\"node7\" class=\"node\">\n",
       "<title>2796013649728</title>\n",
       "<polygon fill=\"none\" stroke=\"black\" points=\"635.25,-54.5 635.25,-90.5 821.25,-90.5 821.25,-54.5 635.25,-54.5\"/>\n",
       "<text text-anchor=\"middle\" x=\"647\" y=\"-67.2\" font-family=\"Times New Roman,serif\" font-size=\"14.00\">d</text>\n",
       "<polyline fill=\"none\" stroke=\"black\" points=\"658.75,-54.75 658.75,-90.5\"/>\n",
       "<text text-anchor=\"middle\" x=\"699\" y=\"-67.2\" font-family=\"Times New Roman,serif\" font-size=\"14.00\">data 4.0000</text>\n",
       "<polyline fill=\"none\" stroke=\"black\" points=\"739.25,-54.75 739.25,-90.5\"/>\n",
       "<text text-anchor=\"middle\" x=\"780.25\" y=\"-67.2\" font-family=\"Times New Roman,serif\" font-size=\"14.00\">grad 0.0000</text>\n",
       "</g>\n",
       "<!-- 2796013649728&#45;&gt;2796013646224* -->\n",
       "<g id=\"edge8\" class=\"edge\">\n",
       "<title>2796013649728&#45;&gt;2796013646224*</title>\n",
       "<path fill=\"none\" stroke=\"black\" d=\"M821.06,-88.52C830.45,-90.16 839.56,-91.75 847.78,-93.18\"/>\n",
       "<polygon fill=\"black\" stroke=\"black\" points=\"846.95,-96.76 857.4,-95.03 848.15,-89.87 846.95,-96.76\"/>\n",
       "</g>\n",
       "<!-- 2796013649728+&#45;&gt;2796013649728 -->\n",
       "<g id=\"edge2\" class=\"edge\">\n",
       "<title>2796013649728+&#45;&gt;2796013649728</title>\n",
       "<path fill=\"none\" stroke=\"black\" d=\"M598.75,-72.5C606.39,-72.5 615.24,-72.5 624.65,-72.5\"/>\n",
       "<polygon fill=\"black\" stroke=\"black\" points=\"624.47,-76 634.47,-72.5 624.47,-69 624.47,-76\"/>\n",
       "</g>\n",
       "<!-- 2796013646224 -->\n",
       "<g id=\"node9\" class=\"node\">\n",
       "<title>2796013646224</title>\n",
       "<polygon fill=\"none\" stroke=\"black\" points=\"948,-81.5 948,-117.5 1139.25,-117.5 1139.25,-81.5 948,-81.5\"/>\n",
       "<text text-anchor=\"middle\" x=\"960.12\" y=\"-94.2\" font-family=\"Times New Roman,serif\" font-size=\"14.00\">L</text>\n",
       "<polyline fill=\"none\" stroke=\"black\" points=\"972.25,-81.75 972.25,-117.5\"/>\n",
       "<text text-anchor=\"middle\" x=\"1014.75\" y=\"-94.2\" font-family=\"Times New Roman,serif\" font-size=\"14.00\">data &#45;8.0000</text>\n",
       "<polyline fill=\"none\" stroke=\"black\" points=\"1057.25,-81.75 1057.25,-117.5\"/>\n",
       "<text text-anchor=\"middle\" x=\"1098.25\" y=\"-94.2\" font-family=\"Times New Roman,serif\" font-size=\"14.00\">grad 0.0000</text>\n",
       "</g>\n",
       "<!-- 2796013646224*&#45;&gt;2796013646224 -->\n",
       "<g id=\"edge3\" class=\"edge\">\n",
       "<title>2796013646224*&#45;&gt;2796013646224</title>\n",
       "<path fill=\"none\" stroke=\"black\" d=\"M912.22,-99.5C919.6,-99.5 928.12,-99.5 937.19,-99.5\"/>\n",
       "<polygon fill=\"black\" stroke=\"black\" points=\"937.06,-103 947.06,-99.5 937.06,-96 937.06,-103\"/>\n",
       "</g>\n",
       "</g>\n",
       "</svg>\n"
      ],
      "text/plain": [
       "<graphviz.graphs.Digraph at 0x28aff6155b0>"
      ]
     },
     "execution_count": 101,
     "metadata": {},
     "output_type": "execute_result"
    }
   ],
   "source": [
    "class Value:\n",
    "    def __init__(self, data, _children=(), _op='', label=''):\n",
    "        self.data = data\n",
    "        self.grad = 0.0\n",
    "        self._prev = set(_children)\n",
    "        self._op = _op\n",
    "        self.label = label\n",
    "        \n",
    "    def __repr__(self):\n",
    "        return f\"Value(data={self.data})\"\n",
    "\n",
    "    def __add__(self, other):\n",
    "        out = Value(self.data + other.data, (self, other), \"+\")\n",
    "        return out\n",
    "    \n",
    "    def __mul__(self, other):\n",
    "        out = Value(self.data * other.data, (self, other), \"*\")\n",
    "        return out\n",
    "    \n",
    "a = Value(2.0, label='a')\n",
    "b = Value(-3.0, label='b')\n",
    "c = Value(10.0, label='c')\n",
    "e = a*b; e.label = 'e'\n",
    "d = e + c; d.label = 'd'\n",
    "f = Value(-2.0, label='f')\n",
    "L = d * f; L.label = 'L'\n",
    "L\n",
    "\n",
    "draw_dot(L)"
   ]
  },
  {
   "cell_type": "code",
   "execution_count": null,
   "metadata": {},
   "outputs": [],
   "source": [
    "L = d * f "
   ]
  },
  {
   "cell_type": "code",
   "execution_count": 102,
   "metadata": {},
   "outputs": [],
   "source": [
    "L.grad = 1.0"
   ]
  },
  {
   "cell_type": "code",
   "execution_count": null,
   "metadata": {},
   "outputs": [],
   "source": []
  }
 ],
 "metadata": {
  "kernelspec": {
   "display_name": "base",
   "language": "python",
   "name": "python3"
  },
  "language_info": {
   "codemirror_mode": {
    "name": "ipython",
    "version": 3
   },
   "file_extension": ".py",
   "mimetype": "text/x-python",
   "name": "python",
   "nbconvert_exporter": "python",
   "pygments_lexer": "ipython3",
   "version": "3.8.3"
  },
  "orig_nbformat": 4
 },
 "nbformat": 4,
 "nbformat_minor": 2
}
